{
 "cells": [
  {
   "cell_type": "markdown",
   "id": "3f949d38",
   "metadata": {},
   "source": [
    "# 2D Aggregates Simulation\n",
    "A simulation of 2D that demonstrates random motion of bacteria cells.<br><br>\n",
    "Each cell is within an aggregate, even if it is the only cell that is in that aggregate. This allows the aggregates to add cells through collision and birth. Additionally, aggregates can lose cells when cells simply break apart or when cells die. The goal of this simulation is to provide information on how the aggregation of bacteria (specifically *P. aeruginosa*)"
   ]
  },
  {
   "cell_type": "markdown",
   "id": "ee52dc40",
   "metadata": {},
   "source": [
    "# Cell-level Parameters"
   ]
  },
  {
   "cell_type": "markdown",
   "id": "7a4529bb-c800-43c7-a36a-825f153d6950",
   "metadata": {},
   "source": [
    "|   Simulation Parameter   |  Description   |   Units   |  Variable Name   |\n",
    "|:------|:-------|:-------|:--------|\n",
    "|$p=(p_{x},p_{y})$ | Cell position in continuous $(x,y)$ space|$\\mu$m|__cell.x__, __cell.y__|\n",
    "|$\\hat{p}$|Corresponding lattice position for $p$|--|obtained via __calculate_lattice_coords__|\n",
    "|$\\mu_R$|Maximal growth rate, given resource $R$|hr$^{-1}$|__cell.max_growth__|\n",
    "|$d$| Death rate |hr$^{-1}$|__PROB_DEATH__ / __SIM_DT__|\n",
    "|$\\beta$|Separation rate|hr$^{-1}$|__CREATES_OWN_AGGREGATE_PROBABILITY__ / __SIM_DT__|\n",
    "|$b$|Rate that cells leave an aggregate|hr$^{-1}$|__BREAK_PROBABILITY__ / __SIM_DT__|\n",
    "\n",
    "\n",
    "\n",
    "\n",
    "\n"
   ]
  },
  {
   "cell_type": "markdown",
   "id": "06540571-cb16-4dd2-8f20-ab0497e7bce7",
   "metadata": {},
   "source": [
    "## Aggregate-level Parameters"
   ]
  },
  {
   "cell_type": "markdown",
   "id": "4963122d-c432-427d-bb9f-a9dcd4eee586",
   "metadata": {},
   "source": [
    "|   Simulation Parameter   |  Description   |   Units   |  Variable Name   |\n",
    "|:------|:-------|:-------|:--------|\n",
    "|$a^t$ | Total number of aggregates in the environment at time $t$|aggregates| -- |\n",
    "|$c^t_i$ | Total number of cells in aggregate $i$ at time $t$ (\"aggregate size\")|cells|__aggregate.size__|\n",
    "|$d_{agg}$ | Threshold radius for diffusive aggregation |$\\mu m$| __COLLISION_DISTANCE__|\n",
    "|$\\rho$ | Diffusive aggregation rate|$hr^{-1}$|__MERGE_ON_COLLISION_PROB__ / __SIM_DT__|\n",
    "|$D_A$ | Aggregate diffusion rate|$\\mu m^{2} / hr$|__PROB_MOVE__ / __SIM_DT__|\n",
    "|$k$ | Mean squared displacement of an aggregate in time interval $t$ |$\\mu m$|not currently implemented (i.e. 10 in __dx__, __dy__ formula)|\n",
    "|$c_{thresh}$ | Threshold aggregate size|cells|__SHEDDING_FLOOR__|\n",
    "|$\\theta$ | Direction/angle of aggregate diffusion|$rad$|__dir__|\n",
    "\n",
    "\n",
    "\n",
    "\n",
    "\n"
   ]
  },
  {
   "cell_type": "markdown",
   "id": "9f9048b4-4309-469d-aeff-1ce89e461860",
   "metadata": {},
   "source": [
    "## Environmental Parameters"
   ]
  },
  {
   "cell_type": "markdown",
   "id": "63e40c0f-3fe3-4c35-938e-39fc87edf91a",
   "metadata": {},
   "source": [
    "|   Simulation Parameter   |  Description   |   Units   |  Variable Name   |\n",
    "|:------|:-------|:-------|:--------|\n",
    "|$(\\hat{p}_{pos}, \\hat{p}_{neg})$ | Positive and negative limits of simulation space|$\\mu m$|__POS_LIM__, __NEG_LIM__|\n",
    "|$m, n$ | Lattice dimensions (i.e. $m$ rows x $n$ columns)|--|(__POS_LIM__ - __NEG_LIM__)|\n",
    "|$\\Delta x_L$ | Lattice spatial step size|$\\mu m$|__LATTICE_SPACING__|\n",
    "|$\\Delta t$| Simulation time step|$hr$|__SIM_DT__|\n",
    "|$D_S$ | Diffusion coefficient for substrate $S$|$\\mu$m$^{2}$ / $hr$|__lattice.diffusion_coefficient__|"
   ]
  },
  {
   "cell_type": "markdown",
   "id": "3f98f735",
   "metadata": {},
   "source": [
    "## Resource Parameters "
   ]
  },
  {
   "cell_type": "markdown",
   "id": "9ca15d5d-79a4-49c9-aa72-108437c1d795",
   "metadata": {},
   "source": [
    "|   Simulation Parameter   |  Description   |   Units   |  Variable Name   |\n",
    "|:------|:-------|:-------|:--------|\n",
    "|$\\gamma_R$ | Yield coefficient for resource|--|__Resource.yield__ |\n",
    "|$k_R$ | Half-maximal concentration of resource|$\\mu$g/ml|__Resource.half_maximal__ |\n",
    "|$\\mu_R$ |Maximal growth rate|$hr^{-1}$|__MAX_GROWTH_RATE__|"
   ]
  },
  {
   "cell_type": "markdown",
   "id": "ffea820d-9e87-463f-b868-2550812325a9",
   "metadata": {},
   "source": [
    "## Added Chemical Parameters\n",
    "Change to 'substrates' and state variable $S$?\n",
    "\n",
    "Substrates that are not produced by bacteria"
   ]
  },
  {
   "cell_type": "markdown",
   "id": "de34ea00-b640-4076-9814-e686e9a591fe",
   "metadata": {},
   "source": [
    "|   Simulation Parameter   |  Description   |   Units   |  Variable Name   |\n",
    "|:------|:-------|:-------|:--------|\n",
    "|$f_{qq}$ | Quorum-quenching factor|--|__AddedChemical.quorum_quenched_aggregation__|\n",
    "|$f_{aa}$ | Anti-adhesion factor|--|__AddedChemical.anti_adhesion_factor__|\n",
    "|$f_{sm}$ | Surface-modification factor|--|__AddedChemical.surface_modification_factor__|\n",
    "|$f_{bs}$ | Bacteriostatic factor|--|__AddedChemical.bacteriostatic_factor__|\n",
    "|$f_{bc}$ | Bactericidal factor|--|__AddedChemical.bacteriocidal_factor__|\n",
    "|$k_S$ |Half-maximal concentration of substrate $S$|$\\mu$g/ml|__AddedChemical.half_maximal__|\n",
    "|$\\lambda_S$ | Half-life for substrate $S$ - should be rate??||__AddedChemical.half_life__|\n",
    "|$t_{S,in}$ | Time step at which chemical is first introduced|$hr$|__AddedChemical.intro_time_step__|\n"
   ]
  },
  {
   "cell_type": "markdown",
   "id": "279e1843-475e-4eec-b8de-e826ebe57899",
   "metadata": {},
   "source": [
    "## Public Good Parameters\n",
    "Use state variable $P$?\n",
    "\n",
    "More broadly substrates that are produced by cells, namely public goods, but could adapt to be defense mechanisms in a multi-species/strain scenario"
   ]
  },
  {
   "cell_type": "markdown",
   "id": "48ce661a-2f60-4500-9630-836268e1c2fe",
   "metadata": {},
   "source": [
    "|   Simulation Parameter   |  Description   |   Units   |  Variable Name   |\n",
    "|:------|:-------|:-------|:--------|\n",
    "|$f_A$ | Aggregation factor||__PublicGood.aggregate_factor__|\n",
    "|$f_g$ | Growth factor||__PublicGood.growth_factor__|\n",
    "|$\\alpha$ | Scale factor||__PublicGood.scale_factor__|\n",
    "|$k_P$ | Half-maximal public good concentration|$\\mu$g/ml|__PublicGood.half_maximal__|\n",
    "|$\\gamma_{P}$ | Yield coefficient of public good|--|__PublicGood.yield__|\n",
    "|$\\zeta$| Growth cost of public good production|$hr^{-1}$|__PublicGood.cost__|"
   ]
  },
  {
   "cell_type": "markdown",
   "id": "81b2b9c1",
   "metadata": {},
   "source": [
    "## Cell Level Properties\n",
    "* Birth\n",
    "* Death\n",
    "* Growth Rate"
   ]
  },
  {
   "cell_type": "code",
   "execution_count": null,
   "id": "70373e5e",
   "metadata": {},
   "outputs": [],
   "source": [
    "mutable struct Cell\n",
    "    x::Float64\n",
    "    y::Float64\n",
    "    prob_birth::Float64\n",
    "    max_growth::Float64\n",
    "end"
   ]
  },
  {
   "cell_type": "markdown",
   "id": "7bac7d25",
   "metadata": {},
   "source": [
    "## Cell Functions\n",
    "- periodic_boundary(cell)\n",
    "  - Loops the cell to the other side of the map when it crosses the boundaries"
   ]
  },
  {
   "cell_type": "code",
   "execution_count": null,
   "id": "37732ba7",
   "metadata": {},
   "outputs": [
    {
     "data": {
      "text/plain": [
       "periodic_boundary (generic function with 1 method)"
      ]
     },
     "execution_count": 17,
     "metadata": {},
     "output_type": "execute_result"
    }
   ],
   "source": [
    "function periodic_boundary(cell::Cell)\n",
    "    if cell.x > POS_X\n",
    "        cell.x = NEG_LIM + 1\n",
    "    elseif cell.x < NEG_LIM\n",
    "        cell.x = POS_LIM - 1\n",
    "    end\n",
    "    if cell.y > POS_LIM\n",
    "        cell.y = NEG_LIM + 1\n",
    "    elseif cell.y < NEG_LIM\n",
    "        cell.y = POS_LIM - 1\n",
    "    end\n",
    "end"
   ]
  },
  {
   "cell_type": "code",
   "execution_count": null,
   "id": "5a9af887",
   "metadata": {},
   "outputs": [
    {
     "data": {
      "text/plain": [
       "reflective_boundary (generic function with 1 method)"
      ]
     },
     "execution_count": 18,
     "metadata": {},
     "output_type": "execute_result"
    }
   ],
   "source": [
    "function reflective_boundary(cell::Cell, dx, dy)\n",
    "    if ((cell.x + dx) > POS_LIM_X)\n",
    "        cell.x = POS_LIM_X - (dx + cell.x - POS_LIM_X)\n",
    "    elseif ((cell.x + dx) < NEG_LIM)\n",
    "        cell.x = NEG_LIM_X - (dx + cell.x - NEG_LIM_X)\n",
    "    else\n",
    "        cell.x += dx\n",
    "    end\n",
    "    if ((cell.y + dy) > POS_LIM_Y)\n",
    "        cell.y = POS_LIM_Y - (dy + cell.y - POS_LIM_Y)\n",
    "    elseif ((cell.y + dy) < negLim)\n",
    "        cell.x = NEG_LIM_X - (dy + cell.y - NEG_LIM_Y)\n",
    "    else\n",
    "        cell.y += dy\n",
    "    end\n",
    "end"
   ]
  },
  {
   "cell_type": "code",
   "execution_count": null,
   "id": "79567651",
   "metadata": {},
   "outputs": [
    {
     "data": {
      "text/plain": [
       "generate_newcell (generic function with 1 method)"
      ]
     },
     "execution_count": 19,
     "metadata": {},
     "output_type": "execute_result"
    }
   ],
   "source": [
    "function generate_newcell(parent_cell::Cell)\n",
    "    x_diff = 2 * NEWCELL_MAX_DIST * rand() - NEWCELL_MAX_DIST\n",
    "    y_diff = 2 * NEWCELL_MAX_DIST * rand() - NEWCELL_MAX_DIST\n",
    "    newcell = Cell(\n",
    "        parent_cell.x + x_diff,\n",
    "        parent_cell.y + y_diff,\n",
    "        parent_cell.prob_birth,\n",
    "        parent_cell.max_growth\n",
    "    )\n",
    "    return newcell\n",
    "end"
   ]
  },
  {
   "cell_type": "markdown",
   "id": "f63228dd",
   "metadata": {},
   "source": [
    "## Aggregate Level Properties\n",
    "* Movement\n",
    "* Color"
   ]
  },
  {
   "cell_type": "code",
   "execution_count": null,
   "id": "e0f958e2",
   "metadata": {},
   "outputs": [],
   "source": [
    "import ColorTypes\n",
    "mutable struct Aggregate\n",
    "    cells::Set{Cell}\n",
    "    rgb::ColorTypes.RGBA\n",
    "    size::Int32\n",
    "end"
   ]
  },
  {
   "cell_type": "markdown",
   "id": "2bf5a848",
   "metadata": {},
   "source": [
    "## Aggregate Functions\n",
    "- is_collision(aggregate1, aggregate2)\n",
    "  - checks to see if there is a collision between two aggregates\n",
    "- add_cell(aggregate, cell)\n",
    "  - adds the cell to the aggregate\n",
    "- del_cell(aggregate, cell)\n",
    "  - removes the cell from the aggregate\n",
    "- merge_aggregates(aggregate1, aggregate2)\n",
    "  - adds all of one aggregates cells to another aggregate\n",
    "direction\n"
   ]
  },
  {
   "cell_type": "code",
   "execution_count": null,
   "id": "925040c3",
   "metadata": {},
   "outputs": [
    {
     "data": {
      "text/plain": [
       "is_collision (generic function with 1 method)"
      ]
     },
     "execution_count": 23,
     "metadata": {},
     "output_type": "execute_result"
    }
   ],
   "source": [
    "function is_collision(aggregate::Aggregate, new_aggregate::Aggregate)\n",
    "    for cell1 in aggregate.cells\n",
    "        for cell2 in new_aggregate.cells\n",
    "            if (sqrt((cell1.x - cell2.x)^2 + (cell1.y - cell2.y)^2) <= COLLISION_DISTANCE)\n",
    "                return true\n",
    "            end\n",
    "        end\n",
    "    end\n",
    "    return false\n",
    "end"
   ]
  },
  {
   "cell_type": "code",
   "execution_count": null,
   "id": "2bccea8a",
   "metadata": {},
   "outputs": [
    {
     "data": {
      "text/plain": [
       "add_cell (generic function with 1 method)"
      ]
     },
     "execution_count": 24,
     "metadata": {},
     "output_type": "execute_result"
    }
   ],
   "source": [
    "function add_cell(aggregate::Aggregate, cell::Cell)\n",
    "    push!(aggregate.cells, cell)\n",
    "    aggregate.size += 1\n",
    "end"
   ]
  },
  {
   "cell_type": "code",
   "execution_count": null,
   "id": "2c0f23d5",
   "metadata": {},
   "outputs": [
    {
     "data": {
      "text/plain": [
       "del_cell (generic function with 1 method)"
      ]
     },
     "execution_count": 25,
     "metadata": {},
     "output_type": "execute_result"
    }
   ],
   "source": [
    "function del_cell(aggregate::Aggregate, cell::Cell)\n",
    "    delete!(aggregate.cells, cell)\n",
    "    aggregate.size -= 1\n",
    "end"
   ]
  },
  {
   "cell_type": "code",
   "execution_count": null,
   "id": "d444b2c8",
   "metadata": {},
   "outputs": [
    {
     "data": {
      "text/plain": [
       "merge_aggregates (generic function with 1 method)"
      ]
     },
     "execution_count": 26,
     "metadata": {},
     "output_type": "execute_result"
    }
   ],
   "source": [
    "function merge_aggregates(Aggregate_Map::Set{Aggregate}, aggregate::Aggregate, new_aggregate::Aggregate)\n",
    "    # Completes a union of the aggregate.cells sets\n",
    "    union!(aggregate.cells, new_aggregate.cells)\n",
    "    aggregate.size += new_aggregate.size\n",
    "    delete!(Aggregate_Map, new_aggregate)\n",
    "end"
   ]
  },
  {
   "cell_type": "code",
   "execution_count": null,
   "id": "85af1c1c-307f-4195-a05a-88c6d012cde4",
   "metadata": {},
   "outputs": [
    {
     "data": {
      "text/plain": [
       "break_apart (generic function with 1 method)"
      ]
     },
     "execution_count": 27,
     "metadata": {},
     "output_type": "execute_result"
    }
   ],
   "source": [
    "function break_apart(Aggregate_Map::Set{Aggregate}, aggregate::Aggregate, breakaway_cell::Cell)\n",
    "    agg_rand_cell = rand(aggregate.cells)\n",
    "\n",
    "    # The following if statements ensure that the cells move away from the random aggregate cell\n",
    "    # in both the x and y directions\n",
    "    x_mov = BREAKAWAY_DIST\n",
    "    if breakaway_cell.x < agg_rand_cell.x\n",
    "        x_mov = -BREAKAWAY_DIST\n",
    "    end\n",
    "\n",
    "    y_mov = BREAKAWAY_DIST\n",
    "    if breakaway_cell.y < agg_rand_cell.y\n",
    "        y_mov = -BREAKAWAY_DIST\n",
    "    end\n",
    "        \n",
    "    breakaway_cell.x += x_mov\n",
    "    breakaway_cell.y += y_mov\n",
    "    \n",
    "    # Create new aggregate with the cell as root\n",
    "    new_aggregate = generate_new_aggregate(breakaway_cell)\n",
    "    del_cell(aggregate, breakaway_cell)  \n",
    "    push!(Aggregate_Map, new_aggregate)\n",
    "end"
   ]
  },
  {
   "cell_type": "markdown",
   "id": "11fbee36",
   "metadata": {},
   "source": [
    "## Lattice\n",
    "We use this struct to keep track of nutrient and cell concentrations. So far, there are two main instances of the lattice class in the simulation. For more information, read about Fick's Second Law.\n",
    "* nutrient_lattice is a 2D array that keeps track of the amount of nutrient available in each location\n",
    "* cell_density_lattice is a 2D array that keeps track of the density of cells in each location. This is directly mappable to the nutrient lattice.\n",
    "### Lattice Properties\n",
    "    * lattice_resolution: the dimensions of the lattice are lattice_resolution x lattice_resolutio\n",
    "    * matrix: the matrix representing the lattice\n",
    "    * diffusion_coefficient: proporitionality constant between the flux and the gradient of the concentration"
   ]
  },
  {
   "cell_type": "code",
   "execution_count": null,
   "id": "01cc68f4",
   "metadata": {},
   "outputs": [],
   "source": [
    "mutable struct Lattice\n",
    "    lattice_resolution_x::Int64\n",
    "    lattice_resolution_y::Int64\n",
    "    matrix::Matrix{Float64}\n",
    "    diffusion_coefficient::Int64\n",
    "end"
   ]
  },
  {
   "cell_type": "markdown",
   "id": "215d03fa",
   "metadata": {
    "tags": []
   },
   "source": [
    "## Lattice Functions\n",
    "- initalize_to_uniform(lattice)\n",
    "  - initializes the lattice by setting all cells to the same value\n",
    "- show_lattice(lattice)\n",
    "  - visualizes the lattice\n",
    "- calc_diffusion(lattice)\n",
    "  - calculates the calculates the new resource lattice after diffusion\n",
    "- calc_lattice_coords(x, y)\n",
    "  - calculates the coordinates of a cell within the density lattice"
   ]
  },
  {
   "cell_type": "code",
   "execution_count": null,
   "id": "c44eb868",
   "metadata": {},
   "outputs": [
    {
     "data": {
      "text/plain": [
       "initialize_to_uniform (generic function with 1 method)"
      ]
     },
     "execution_count": 31,
     "metadata": {},
     "output_type": "execute_result"
    }
   ],
   "source": [
    "function initialize_to_uniform(lattice::Lattice, initial_value)\n",
    "    lattice.matrix = zeros(Float64, lattice.lattice_resolution_y, lattice.lattice_resolution_x) .+ initial_value\n",
    "    return lattice\n",
    "end"
   ]
  },
  {
   "cell_type": "code",
   "execution_count": null,
   "id": "13881539-a07e-4821-ae21-e6ba4810653d",
   "metadata": {},
   "outputs": [
    {
     "data": {
      "text/plain": [
       "initialize_to_random (generic function with 1 method)"
      ]
     },
     "execution_count": 32,
     "metadata": {},
     "output_type": "execute_result"
    }
   ],
   "source": [
    "function initialize_to_random(lattice::Lattice, total_value)\n",
    "    # Initialize matrix to zeros\n",
    "    lattice.matrix = zeros(Float64, lattice.lattice_resolution_y, lattice.lattice_resolution_x)\n",
    "    remaining_resource = total_value\n",
    "    \n",
    "    # Generate random values for each cell\n",
    "    random_values = rand(lattice.lattice_resolution_y, lattice.lattice_resolution_x)\n",
    "    \n",
    "    # Normalize the random values so they sum to 1\n",
    "    normalized_values = random_values / sum(random_values)\n",
    "    \n",
    "    # Scale the normalized values to sum to total_value\n",
    "    lattice.matrix = normalized_values * total_value\n",
    "    \n",
    "    return lattice\n",
    "end"
   ]
  },
  {
   "cell_type": "code",
   "execution_count": null,
   "id": "71f91c6a-a177-44e8-8bab-42d7d900e3db",
   "metadata": {},
   "outputs": [
    {
     "data": {
      "text/plain": [
       "initialize_added_chemical_lattice (generic function with 1 method)"
      ]
     },
     "execution_count": 33,
     "metadata": {},
     "output_type": "execute_result"
    }
   ],
   "source": [
    "function initialize_added_chemical_lattice(lattice::Lattice, half_maximal::Float64)\n",
    "    lattice.matrix = half_maximal .+ zeros(Float64, (lattice.lattice_resolution_y, lattice.lattice_resolution_x))\n",
    "end"
   ]
  },
  {
   "cell_type": "code",
   "execution_count": null,
   "id": "42913e5c",
   "metadata": {},
   "outputs": [
    {
     "data": {
      "text/plain": [
       "show_lattice (generic function with 1 method)"
      ]
     },
     "execution_count": 34,
     "metadata": {},
     "output_type": "execute_result"
    }
   ],
   "source": [
    "using Plots\n",
    "\n",
    "# Not to scale yet\n",
    "function show_lattice(lattice::Lattice)\n",
    "    matrix = lattice.matrix\n",
    "    indices = findall(x -> x < CLIM[1], lattice.matrix)\n",
    "    matrix[indices] .= CLIM[1]\n",
    "    indices = findall(x -> x > CLIM[2], matrix)\n",
    "    matrix[indices] .= CLIM[2]\n",
    "    return heatmap(\n",
    "        matrix',\n",
    "        color=CMAP,\n",
    "        xlabel=\"Mesh X Index\",\n",
    "        ylabel=\"Mesh Y Index\",\n",
    "        xlims=(0, lattice.lattice_resolution_x),\n",
    "        ylims=(0, lattice.lattice_resolution_y),\n",
    "        clim=CLIM,\n",
    "        aspect_ratio=:equal,\n",
    "    )\n",
    "end"
   ]
  },
  {
   "cell_type": "code",
   "execution_count": null,
   "id": "c8065270",
   "metadata": {},
   "outputs": [
    {
     "data": {
      "text/plain": [
       "calculate_diffusion (generic function with 1 method)"
      ]
     },
     "execution_count": 35,
     "metadata": {},
     "output_type": "execute_result"
    }
   ],
   "source": [
    "function calculate_diffusion(lattice)\n",
    "    \n",
    "    y_flux_padded = zeros(Float64,lattice.lattice_resolution_y + 2, lattice.lattice_resolution_x)\n",
    "    \n",
    "    y_flux_padded[1,:] = lattice.matrix[2,:] .+ (2*INFLOW_GRADIENT*LATTICE_SPACING/lattice.diffusion_coefficient) \n",
    "    y_flux_padded[end,:] = lattice.matrix[end-1,:] .- (2*OUTFLOW_GRADIENT*LATTICE_SPACING/lattice.diffusion_coefficient) .* lattice.matrix[end, :]\n",
    "    y_flux_padded[2:end-1,:] .= lattice.matrix\n",
    "    \n",
    "    y_flux = -lattice.diffusion_coefficient * (y_flux_padded[2:end,:] .- y_flux_padded[1:end-1,:])/LATTICE_SPACING\n",
    "    \n",
    "    dR = -((y_flux[2:end,:] .- y_flux[1:end-1,:])/LATTICE_SPACING)\n",
    "    \n",
    "    x_flux_padded = zeros(Float64,lattice.lattice_resolution_y, lattice.lattice_resolution_x + 2)\n",
    "    \n",
    "    x_flux_padded[:,1] = lattice.matrix[:,2] .+ (2*INFLOW_GRADIENT*LATTICE_SPACING/lattice.diffusion_coefficient) \n",
    "    x_flux_padded[:,end] = lattice.matrix[:,end-1] .- (2*OUTFLOW_GRADIENT*LATTICE_SPACING/lattice.diffusion_coefficient) .* lattice.matrix[:, end]\n",
    "    x_flux_padded[:,2:end-1] .= lattice.matrix\n",
    "    \n",
    "    x_flux = -lattice.diffusion_coefficient * (x_flux_padded[:,2:end] .- x_flux_padded[:,1:end-1])/LATTICE_SPACING\n",
    "    \n",
    "    dR = dR - ((x_flux[:,2:end] .- x_flux[:,1:end-1])/LATTICE_SPACING)\n",
    "    \n",
    "    lattice.matrix .+= dR * RESOURCE_DT\n",
    "    \n",
    "end"
   ]
  },
  {
   "cell_type": "code",
   "execution_count": null,
   "id": "12f73a71",
   "metadata": {},
   "outputs": [
    {
     "data": {
      "text/plain": [
       "calculate_lattice_coords (generic function with 1 method)"
      ]
     },
     "execution_count": 36,
     "metadata": {},
     "output_type": "execute_result"
    }
   ],
   "source": [
    "function calculate_lattice_coords(x, y)\n",
    "    # Calculate x and y coordinates in the lattice space based on limits and spacing\n",
    "    x_coord = round(Int64, (x - NEG_LIM_X) / LATTICE_SPACING)\n",
    "    y_coord = round(Int64, (y - NEG_LIM_Y) / LATTICE_SPACING)\n",
    "\n",
    "    # Clamp the coordinates to ensure they stay within the matrix bounds\n",
    "    x_coord = clamp(x_coord, 1, LATTICE_RESOLUTION_X)\n",
    "    y_coord = clamp(y_coord, 1, LATTICE_RESOLUTION_Y)\n",
    "\n",
    "    return (x_coord, y_coord)\n",
    "end\n"
   ]
  },
  {
   "cell_type": "code",
   "execution_count": null,
   "id": "98c2e8c1-d231-44f1-b25d-136ab6499ceb",
   "metadata": {},
   "outputs": [
    {
     "data": {
      "text/plain": [
       "get_lattice_squares_per_micron (generic function with 1 method)"
      ]
     },
     "execution_count": 37,
     "metadata": {},
     "output_type": "execute_result"
    }
   ],
   "source": [
    "function get_lattice_squares_per_micron(lattice_spacing)\n",
    "    return round(Int, 1.0 / lattice_spacing)  # Convert 1 micron to lattice squares\n",
    "end"
   ]
  },
  {
   "cell_type": "markdown",
   "id": "6a9aeabc-6833-4031-b07b-2cae93cf0688",
   "metadata": {
    "tags": []
   },
   "source": [
    "# Added Chemicals\n",
    "Here, the user can mimic real chemicals, or explore how theoretical chemicals could affect the growth rate of *_P. aeruginosa_*. All the chemicals represented by the AddedChemical struct should be chemicals that are not produced by the organisms that are currently being simulated in the system. These chemicals should be added by an outside agent."
   ]
  },
  {
   "cell_type": "markdown",
   "id": "223b2159-09cf-42a3-a4ec-59145123bc59",
   "metadata": {},
   "source": [
    "## Aggregation Inhibition\n",
    "This feature allows us to explore the potential effects of limiting the aggregation of *_P. aeruginosa_*\n",
    "### Quorum-Quenching Chemicals\n",
    "Quorum Quenching has been shown to be an effective mechanism for reducing aggregation in many bacteria. All the techniques that are modeled here have been successful at reducing *_P. aeruginosa_* aggregation.\n",
    "- *_N_*-Decanoyl Cyclopentylamide (C10-CPA)\n",
    "  - \"Intervenes with the *_las_* and *_rhl_* system via inhibiting interaction between their response regulators and autoinducers.\"\n",
    "  - Inhibits *_lasB-lacZ_* expression 80% of the time at 80 $\\mu$M. How do I represent this in the simulation?\n",
    "  - In the real experiment, C10-CPA does not seem to impact growth rate."
   ]
  },
  {
   "cell_type": "markdown",
   "id": "328a9cfa-c1ce-438e-8e7d-c17e55be61d4",
   "metadata": {},
   "source": [
    "### Anti-Adhesives\n",
    "- *_A. philippense_* crude extract\n",
    "  - Reduced pre-formed biofilm formation by 56.54%\n",
    "  - Reduced EPS by 66.73%\n",
    "  - Also lowers growth rate though"
   ]
  },
  {
   "cell_type": "markdown",
   "id": "523ee8ef-2864-48be-acf9-f714d6bf3b0c",
   "metadata": {},
   "source": [
    "### Surface Modification\n",
    "- TODO: Find an example for Pseudomonas"
   ]
  },
  {
   "cell_type": "markdown",
   "id": "2aa68bc7-4b18-41e5-af24-2ed39446f9de",
   "metadata": {},
   "source": [
    "## Antibiotics\n",
    "### Bacteriostatic Antibiotics\n",
    "- Some chemicals inhibit a bacteria's ability to reproduce \n",
    "- For the purpose of this simulation, we just used a basic model that is not based on a real world example"
   ]
  },
  {
   "cell_type": "markdown",
   "id": "ffaafcad-d8f4-4fa0-945e-7b53154182a0",
   "metadata": {},
   "source": [
    "### Bactericidal Antibiotics\n",
    "- Oral Ciprofloxacin is effective against *P. aeruginosa*.\n",
    "  - Has a half life of 4 hours in plasma vs Pseudomonas' doubling rate of 2 hours"
   ]
  },
  {
   "cell_type": "markdown",
   "id": "b1209433-ea8c-4e51-a358-edf261d226af",
   "metadata": {},
   "source": [
    "### AddedChemical Properties\n",
    "* quorum_quenched_aggregation: float representing the proportion of aggregation to be inhibited\n",
    "* anti_adhesion_factor: \n",
    "* surface_modification_factor:\n",
    "* bacteriostatic_factor: 0<float<1 representing the factor to decrease the growth probability by\n",
    "* bactericidal_factor: 1<float representing the factor to increase the death probability by\n",
    "                                \n",
    "* half_maximal: the half-maximal concentration of the chemical\n",
    "* lattice: chemical concentration lattice\n",
    "* intro_time_step: time step at which chemical is introduced to the system    \n",
    "* half_life: If the chemical experiences a half-life, this is the duration of that half-life. The formula $$0.5^\\frac{SIM_DT}{half_life}$$ will be used to find the decay factor during each iteration"
   ]
  },
  {
   "cell_type": "code",
   "execution_count": null,
   "id": "03c6d858-d85b-46f9-a4e0-7f567acbbdaa",
   "metadata": {
    "tags": []
   },
   "outputs": [],
   "source": [
    "mutable struct AddedChemical\n",
    "    quorum_quenched_aggregation_factor::Float64\n",
    "    anti_adhesion_factor::Float64\n",
    "    surface_modification_factor::Float64\n",
    "    bacteriostatic_factor::Float64\n",
    "    bactericidal_factor::Float64\n",
    "    \n",
    "    half_maximal::Float64\n",
    "    lattice::Lattice\n",
    "    intro_time_step::Float64\n",
    "    half_life::Float64\n",
    "end"
   ]
  },
  {
   "cell_type": "markdown",
   "id": "06a7e0f2-dccc-4020-b0c5-1a5d64514aed",
   "metadata": {},
   "source": [
    "## Commonly Used Chemicals"
   ]
  },
  {
   "cell_type": "markdown",
   "id": "97a0e02e-3348-4c86-ba5c-cc6c25e4baa7",
   "metadata": {},
   "source": [
    "### C10-CPA"
   ]
  },
  {
   "cell_type": "code",
   "execution_count": null,
   "id": "48b66c00-779c-4f02-9338-69b20f67bc5e",
   "metadata": {},
   "outputs": [
    {
     "data": {
      "text/plain": [
       "C10_CPA (generic function with 1 method)"
      ]
     },
     "execution_count": 48,
     "metadata": {},
     "output_type": "execute_result"
    }
   ],
   "source": [
    "function C10_CPA(intro_time_step, half_life)\n",
    "    return AddedChemical(0.3, 0, 0, 0, 0, 100, Lattice(0,0,zeros(Float64,1,1),0), intro_time_step, half_life)\n",
    "end"
   ]
  },
  {
   "cell_type": "markdown",
   "id": "d3a09ca8-7a36-428e-9a48-8a5bca6d9ff2",
   "metadata": {},
   "source": [
    "### Ciprofloxacin"
   ]
  },
  {
   "cell_type": "code",
   "execution_count": null,
   "id": "19a6d930-49fb-474e-836f-6fe675a31b84",
   "metadata": {},
   "outputs": [
    {
     "data": {
      "text/plain": [
       "CIPROFLOXACIN (generic function with 1 method)"
      ]
     },
     "execution_count": 50,
     "metadata": {},
     "output_type": "execute_result"
    }
   ],
   "source": [
    "# Common Antibiotic used on P. aeruginosa\n",
    "function CIPROFLOXACIN(intro_time_step)\n",
    "    return AddedChemical(0, 0, 0, 0, 200, 180, Lattice(0,0,zeros(Float64,1,1),0), intro_time_step, 4)\n",
    "end"
   ]
  },
  {
   "cell_type": "markdown",
   "id": "a4e70123-80fa-43f2-8d55-77fcbd094741",
   "metadata": {},
   "source": [
    "### Bacteriostatic Antibiotic"
   ]
  },
  {
   "cell_type": "code",
   "execution_count": null,
   "id": "07f06bff-eabe-40f2-a44d-68b82c0996c5",
   "metadata": {},
   "outputs": [
    {
     "data": {
      "text/plain": [
       "BACTERIOSTATIC (generic function with 1 method)"
      ]
     },
     "execution_count": 52,
     "metadata": {},
     "output_type": "execute_result"
    }
   ],
   "source": [
    "function BACTERIOSTATIC(intro_time_step, half_life)\n",
    "    return AddedChemical(0, 0, 0, 0.05, 0, 100, Lattice(0,0,zeros(Float64,1,1),0), intro_time_step, half_life)\n",
    "end"
   ]
  },
  {
   "cell_type": "markdown",
   "id": "c65071d1-ef0f-4bcd-9ed1-36bdbe146716",
   "metadata": {},
   "source": [
    "# Public Good\n",
    "The Public Good struct abstracts substances like siderophores or exoenzymes produced by aggregates themselves that increase the growth rate or aggregation of cells when cells come in contact with them. An example of this is the siderophore pyoverdine, produced by *Pseudomonas* to make the uptake and transport of iron more efficient, and is tied to increased virulence. It's benefits for *Pseudomonas* have been seen to level off with high saturation, but have proven short-term effects (\"the growth rate increases almost linearly with PVD concentration, then sharply levels off\") (Becker et. al, 2018)."
   ]
  },
  {
   "cell_type": "code",
   "execution_count": null,
   "id": "f5b87526",
   "metadata": {},
   "outputs": [],
   "source": [
    "mutable struct PublicGood\n",
    "    scale_factor::Float64\n",
    "    half_maximal::Float64\n",
    "    yield::Float64\n",
    "    cost::Float64\n",
    "    lattice::Lattice\n",
    "end"
   ]
  },
  {
   "cell_type": "markdown",
   "id": "bbc7774a-36d9-467e-b766-ad9bb5932a03",
   "metadata": {},
   "source": [
    "# Resource\n",
    "Resource refers to a nutrient-gradient modeling basic nutrients used by *Pseudomonas* for growth such as a carbon source, nitrogen molecules, or iron. Users can specify the initial distribution of nutrients across the environment, as well as describe the boundary conditions and rate of diffusion for nutrient in the simulation space."
   ]
  },
  {
   "cell_type": "code",
   "execution_count": null,
   "id": "22dc8775-0aa2-4dfe-b251-7b590b03f2a8",
   "metadata": {},
   "outputs": [],
   "source": [
    "mutable struct Resource\n",
    "    half_maximal::Float64\n",
    "    yield::Float64\n",
    "    lattice::Lattice\n",
    "end"
   ]
  },
  {
   "cell_type": "markdown",
   "id": "e92174a7-f47d-4a30-bbb5-043b7697ede2",
   "metadata": {},
   "source": [
    "## Simulation Helper Functions"
   ]
  },
  {
   "cell_type": "code",
   "execution_count": null,
   "id": "ddc0c53b-b207-4bcc-8c91-bfe0fdf7437e",
   "metadata": {},
   "outputs": [
    {
     "data": {
      "text/plain": [
       "calculate_dx_dy (generic function with 1 method)"
      ]
     },
     "execution_count": 73,
     "metadata": {},
     "output_type": "execute_result"
    }
   ],
   "source": [
    "# Redacted due to publication pending. Please reach out to learn more!"
   ]
  },
  {
   "cell_type": "markdown",
   "id": "683c9708",
   "metadata": {},
   "source": [
    "## Simulation Code"
   ]
  },
  {
   "cell_type": "code",
   "execution_count": null,
   "id": "d37548b3",
   "metadata": {},
   "outputs": [
    {
     "data": {
      "text/plain": [
       "run (generic function with 2 methods)"
      ]
     },
     "execution_count": 75,
     "metadata": {},
     "output_type": "execute_result"
    }
   ],
   "source": [
    "# Redacted due to publication pending. Please reach out to learn more!"
   ]
  },
  {
   "cell_type": "code",
   "execution_count": 76,
   "id": "bf7f37bf-71ea-468e-b658-e625a88574d1",
   "metadata": {},
   "outputs": [
    {
     "data": {
      "text/plain": [
       "save_plots (generic function with 1 method)"
      ]
     },
     "execution_count": 76,
     "metadata": {},
     "output_type": "execute_result"
    }
   ],
   "source": [
    "function save_plots(Aggregate_Map, resource_lattice, time_step, photo_file)\n",
    "    cell_movement = plot_agg(Aggregate_Map, time_step * 1.0)\n",
    "    #resource_graph = show_lattice(resource_lattice)\n",
    "    create_plots(cell_movement, photo_file)\n",
    "end"
   ]
  },
  {
   "cell_type": "code",
   "execution_count": 77,
   "id": "85ba76bb",
   "metadata": {},
   "outputs": [
    {
     "data": {
      "text/plain": [
       "plot_agg (generic function with 1 method)"
      ]
     },
     "execution_count": 77,
     "metadata": {},
     "output_type": "execute_result"
    }
   ],
   "source": [
    "using Plots\n",
    "\n",
    "function plot_agg(Aggregate_Map::Set{Aggregate}, CURR_T::Float64)\n",
    "    # Create the base scatter plot\n",
    "    p = Plots.scatter(legend=false, xlabel=\"X Microns\", ylabel=\"Y Microns\", hover=true, aspect_ratio=:equal)\n",
    "    title!(\"Discrete Time: Time Step $CURR_T\")\n",
    "    xlims!(NEG_LIM_X, POS_LIM_X)\n",
    "    ylims!(NEG_LIM_Y, POS_LIM_Y)\n",
    "\n",
    "    # Compute dynamic axis range\n",
    "    xrange = POS_LIM_X - NEG_LIM_X  # Width in microns\n",
    "    yrange = POS_LIM_Y - NEG_LIM_Y  # Height in microns\n",
    "\n",
    "    # Define a reasonable scaling constant (tweak if needed)\n",
    "    base_marker_size = 200  # Adjust this constant if needed\n",
    "\n",
    "    # Compute marker size dynamically so that 1 micron always looks the same\n",
    "    scaling_factor = min(base_marker_size / xrange, base_marker_size / yrange)\n",
    "    marker_size = scaling_factor  # Already scaled to 1 µm in the current axis range\n",
    "\n",
    "    # Scatter plot each cell with the adjusted marker size\n",
    "    for aggregate in Aggregate_Map\n",
    "        for cell in aggregate.cells\n",
    "            Plots.scatter!(p, [cell.x], [cell.y], markersize=marker_size, color=aggregate.rgb)\n",
    "        end\n",
    "    end\n",
    "\n",
    "    return p\n",
    "end\n"
   ]
  },
  {
   "cell_type": "code",
   "execution_count": 78,
   "id": "88195d33-6bc6-4b45-b2ae-59aa4c8099ee",
   "metadata": {},
   "outputs": [
    {
     "data": {
      "text/plain": [
       "create_plots (generic function with 1 method)"
      ]
     },
     "execution_count": 78,
     "metadata": {},
     "output_type": "execute_result"
    }
   ],
   "source": [
    "using Plots\n",
    "\n",
    "function create_plots(p1, photo_file)\n",
    "    plot(p1)\n",
    "    Plots.savefig(photo_file)\n",
    "end"
   ]
  },
  {
   "cell_type": "markdown",
   "id": "e449c93d",
   "metadata": {},
   "source": [
    "## Saving Parameters"
   ]
  },
  {
   "cell_type": "code",
   "execution_count": 80,
   "id": "60b56581-4ab2-4a2e-bba4-afb97c4ae82a",
   "metadata": {},
   "outputs": [
    {
     "data": {
      "text/plain": [
       "save_parameters (generic function with 1 method)"
      ]
     },
     "execution_count": 80,
     "metadata": {},
     "output_type": "execute_result"
    }
   ],
   "source": [
    "function save_parameters()\n",
    "    if SAVE_PARAMETERS\n",
    "        dir = string(\"experiments/\", TEST_DIRECTORY)\n",
    "        txt_file = joinpath(dir, \"parameters.txt\")\n",
    "        file = open(txt_file, \"w\")\n",
    "        write(file, string(\"RUN_TIME: \", RUN_TIME, \" seconds\", \"\\n\"))\n",
    "        write(file, string(\"HOURS: \", HOURS, \"\\n\"))\n",
    "        write(file, string(\"NUM_RUNS: \", NUM_RUNS, \"\\n\"))\n",
    "        write(file, string(\"SIM_DT: \", SIM_DT, \"\\n\"))\n",
    "        write(file,string(\"RESOURCE_DT: \", RESOURCE_DT, \"\\n\"))\n",
    "        write(file, string(\"T_MAX: \", T_MAX, \"\\n\"))\n",
    "        write(file, string(\"INITIAL_AGGREGATES: \", INITIAL_AGGREGATES, \"\\n\"))\n",
    "        write(file, string(\"AGGREGATE_SIZE: \", AGGREGATE_SIZE, \"\\n\"))\n",
    "        write(file, string(\"PROB_MOVE: \", PROB_MOVE, \"\\n\"))\n",
    "        write(file, string(\"PROB_DEATH: \", PROB_DEATH, \"\\n\"))\n",
    "        write(file, string(\"NO_MERGE_ON_COLLISION_PROBABILITY: \", NO_MERGE_ON_COLLISION_PROBABILITY, \"\\n\"))\n",
    "        write(file, string(\"CREATES_OWN_AGG_PROBABILITY: \", CREATES_OWN_AGG_PROBABILITY, \"\\n\"))\n",
    "        write(file, string(\"BREAK_PROBABILITY: \", BREAK_PROBABILITY, \"\\n\"))\n",
    "        write(file, string(\"BREAKAWAY_DIST: \", BREAKAWAY_DIST, \"\\n\"))\n",
    "        write(file, string(\"MAX_GROWTH_RATE: \", MAX_GROWTH_RATE, \"\\n\"))\n",
    "        write(file, string(\"NEWCELL_MAX_DIST: \", NEWCELL_MAX_DIST, \"\\n\"))\n",
    "        write(file, string(\"COLLISION_DISTANCE: \", COLLISION_DISTANCE, \"\\n\"))\n",
    "        write(file, string(\"SHEDDING_FLOOR: \", SHEDDING_FLOOR, \"\\n\"))\n",
    "        write(file, string(\"MOV_MAGNITUDE: \", MOV_MAGNITUDE, \"\\n\"))\n",
    "        write(file, string(\"DIFFUSION_COEFFICIENT: \", DIFFUSION_COEFFICIENT, \"\\n\"))\n",
    "        write(file, string(\"BOUNDARY_CONDITION: \", BOUNDARY_CONDITION, \"\\n\"))\n",
    "        write(file, string(\"INFLOW_GRADIENT: \", INFLOW_GRADIENT, \"\\n\"))\n",
    "        write(file, string(\"OUTFLOW_GRADIENT: \", OUTFLOW_GRADIENT, \"\\n\"))\n",
    "        write(file, string(\"DENSITY_DEPENDENT_MOVEMENT_THRESHOLD: \", DENSITY_DEPENDENT_MOVEMENT_THRESHOLD, \"\\n\"))\n",
    "        write(file, string(\"CMAP: \", CMAP, \"\\n\"))\n",
    "        write(file, string(\"CLIM: \", CLIM, \"\\n\"))\n",
    "        write(file, string(\"POS_LIM_X: \", POS_LIM_X, \"\\n\"))\n",
    "        write(file, string(\"POS_LIM_Y: \", POS_LIM_Y, \"\\n\"))\n",
    "        write(file, string(\"NEG_LIM_X: \", NEG_LIM_X, \"\\n\"))\n",
    "        write(file, string(\"NEG_LIM_Y: \", NEG_LIM_Y, \"\\n\"))\n",
    "        write(file, string(\"LATTICE_SPACING: \", LATTICE_SPACING, \"\\n\"))\n",
    "        write(file, string(\"LATTICE_RESOLUTION_X: \", LATTICE_RESOLUTION_X, \"\\n\"))\n",
    "        write(file, string(\"LATTICE_RESOLUTION_Y: \", LATTICE_RESOLUTION_Y, \"\\n\"))\n",
    "        write(file, string(\"GENERATE_GRAPHS: \", GENERATE_GRAPHS, \"\\n\"))\n",
    "        write(file, string(\"TEST_DIRECTORY: \", TEST_DIRECTORY, \"\\n\"))\n",
    "        write(file, string(\"RESOURCE: \", RESOURCE, \"\\n\"))\n",
    "        write(file, string(\"INITIAL_RESOURCE: \", INITIAL_RESOURCE, \"\\n\"))\n",
    "        num = 1\n",
    "        for ADDED_CHEMICAL in ADDED_CHEMICALS\n",
    "            write(file, string(\"ADDED_CHEMICAL #\", num, \": \", ADDED_CHEMICAL, \"\\n\"))\n",
    "            num += 1\n",
    "        end\n",
    "        write(file, string(\"PUBLIC_GOOD_ON: \", PUBLIC_GOOD_ON, \"\\n\"))\n",
    "        write(file, string(\"PUBLIC_GOOD: \", PUBLIC_GOOD, \"\\n\"))\n",
    "        write(file, string(\"PUBLIC_GOOD_DENSITY_THRESHOLD: \", PUBLIC_GOOD_DENSITY_THRESHOLD, \"\\n\"))\n",
    "        write(file, string(\"PUBLIC_GOOD_RESOURCE_THRESHOLD: \", PUBLIC_GOOD_RESOURCE_THRESHOLD, \"\\n\"))\n",
    "        close(file)\n",
    "    end\n",
    "end"
   ]
  },
  {
   "cell_type": "markdown",
   "id": "0f724fa8-7b57-4254-8baf-c274c82b1664",
   "metadata": {},
   "source": [
    "## Saving Resource"
   ]
  },
  {
   "cell_type": "code",
   "execution_count": 82,
   "id": "e2df1bf4-3db8-4afc-916d-20423ede5fb1",
   "metadata": {},
   "outputs": [
    {
     "data": {
      "text/plain": [
       "save_resource (generic function with 1 method)"
      ]
     },
     "execution_count": 82,
     "metadata": {},
     "output_type": "execute_result"
    }
   ],
   "source": [
    "# BELOW: RESOURCE MATRIX\n",
    "#=function save_resource(resource_matrices::Vector{Matrix{Float64}}, run_name::String)\n",
    "    filename = string(string(\"experiments/\", TEST_DIRECTORY), \"/resource\")\n",
    "    if !isdir(filename)\n",
    "        mkdir(filename)\n",
    "    end\n",
    "    filename = string(string(filename, \"/resource_\"), run_name)\n",
    "    open(filename, \"w\") do file\n",
    "        for i in 1:length(resource_matrices)\n",
    "            for row in eachrow(resource_matrices[i])\n",
    "                println(file, join(row, \",\"))  \n",
    "            end\n",
    "            println(file)  # Blank line between matrices (for readability)\n",
    "            println(file) \n",
    "        end\n",
    "    end\n",
    "end=#\n",
    "# BELOW: Total Resource\n",
    "function save_resource(total_resource_values::Vector{Float64}, run_name::String)\n",
    "    filename = string(\"experiments/\", TEST_DIRECTORY, \"/resource\")\n",
    "    if !isdir(filename)\n",
    "        mkdir(filename)\n",
    "    end\n",
    "    \n",
    "    filename = string(filename, \"/resource_\", run_name)\n",
    "    open(filename, \"w\") do file\n",
    "        for total_resource in total_resource_values\n",
    "            println(file, total_resource)\n",
    "        end\n",
    "    end\n",
    "end"
   ]
  },
  {
   "cell_type": "markdown",
   "id": "b74ec63c-0cac-4de4-84c7-afd85c2462f8",
   "metadata": {},
   "source": [
    "## Saving Public Good"
   ]
  },
  {
   "cell_type": "code",
   "execution_count": 84,
   "id": "9b300dab-db0f-4b3a-bac1-b8caa017fca4",
   "metadata": {},
   "outputs": [
    {
     "data": {
      "text/plain": [
       "save_total_public_good (generic function with 1 method)"
      ]
     },
     "execution_count": 84,
     "metadata": {},
     "output_type": "execute_result"
    }
   ],
   "source": [
    "# BELOW: RESOURCE MATRIX\n",
    "function save_public_good(public_matrices::Vector{Matrix{Float64}}, run_name::String)\n",
    "    filename = string(string(\"experiments/\", TEST_DIRECTORY), \"/public_good_matrices\")\n",
    "    if !isdir(filename)\n",
    "        mkdir(filename)\n",
    "    end\n",
    "    filename = string(string(filename, \"/public_good_\"), run_name)\n",
    "    open(filename, \"w\") do file\n",
    "        for i in 1:length(public_matrices)\n",
    "            for row in eachrow(public_matrices[i])\n",
    "                println(file, join(row, \",\"))  \n",
    "            end\n",
    "            println(file)  # Blank line between matrices (for readability)\n",
    "            println(file) \n",
    "        end\n",
    "    end\n",
    "end\n",
    "\n",
    "# Total public good\n",
    "function save_total_public_good(total_public_good_values::Vector{Float64}, run_name::String)\n",
    "    filename = string(\"experiments/\", TEST_DIRECTORY, \"/total_public_good\")\n",
    "    if !isdir(filename)\n",
    "        mkdir(filename)\n",
    "    end\n",
    "    \n",
    "    filename = string(filename, \"/public_good_\", run_name)\n",
    "    open(filename, \"w\") do file\n",
    "        for public_good in total_public_good_values\n",
    "            println(file, public_good)\n",
    "        end\n",
    "    end\n",
    "end"
   ]
  },
  {
   "cell_type": "markdown",
   "id": "c60aed96-d443-4de8-8cd6-128e2c59c582",
   "metadata": {},
   "source": [
    "## Saving Aggregate Size Distribution"
   ]
  },
  {
   "cell_type": "code",
   "execution_count": 86,
   "id": "4dd73c0e-4a8e-476a-b71d-588ab815b342",
   "metadata": {},
   "outputs": [
    {
     "data": {
      "text/plain": [
       "save_aggregate_sizes (generic function with 1 method)"
      ]
     },
     "execution_count": 86,
     "metadata": {},
     "output_type": "execute_result"
    }
   ],
   "source": [
    "function save_aggregate_sizes(aggregate_size_matrix::Vector{Vector{Int32}}, run_name::String)\n",
    "    filename = string(\"experiments/\", TEST_DIRECTORY, \"/aggregate_sizes\")\n",
    "    if !isdir(filename)\n",
    "        mkdir(filename)\n",
    "    end\n",
    "\n",
    "    filename = string(filename, \"/agg_sizes_\", run_name)\n",
    "    open(filename, \"w\") do file\n",
    "        for size_row in aggregate_size_matrix\n",
    "            println(file, join(size_row, \",\"))\n",
    "        end\n",
    "    end\n",
    "end\n"
   ]
  },
  {
   "cell_type": "markdown",
   "id": "d63cba09-e62c-40b0-8711-819a1ec5ae2f",
   "metadata": {},
   "source": [
    "## Saving Cell Density"
   ]
  },
  {
   "cell_type": "code",
   "execution_count": 88,
   "id": "ccd71d7a-4e89-431f-8adb-3f0799abe9aa",
   "metadata": {},
   "outputs": [
    {
     "data": {
      "text/plain": [
       "save_cell_density (generic function with 1 method)"
      ]
     },
     "execution_count": 88,
     "metadata": {},
     "output_type": "execute_result"
    }
   ],
   "source": [
    "function save_cell_density(cell_count_values::Vector{Int}, run_name::String)\n",
    "    filename = string(\"experiments/\", TEST_DIRECTORY, \"/cell_density\")\n",
    "    if !isdir(filename)\n",
    "        mkdir(filename)\n",
    "    end\n",
    "    \n",
    "    filename = string(filename, \"/cell_density_\", run_name)\n",
    "    open(filename, \"w\") do file\n",
    "        for cell_count in cell_count_values\n",
    "            println(file, cell_count)\n",
    "        end\n",
    "    end\n",
    "end"
   ]
  },
  {
   "cell_type": "markdown",
   "id": "6bd19937-e154-4e18-a1ae-4727c4793ce4",
   "metadata": {},
   "source": [
    "## Saving Cell Locations"
   ]
  },
  {
   "cell_type": "code",
   "execution_count": 90,
   "id": "20e83893-b9ba-46b2-b1a3-2baf3ad8682d",
   "metadata": {},
   "outputs": [
    {
     "data": {
      "text/plain": [
       "save_cell_locations (generic function with 1 method)"
      ]
     },
     "execution_count": 90,
     "metadata": {},
     "output_type": "execute_result"
    }
   ],
   "source": [
    "function save_cell_locations(cell_locations_over_time, run_name)\n",
    "    filename = string(\"experiments/\", TEST_DIRECTORY, \"/cell_locations\")\n",
    "    if !isdir(filename)\n",
    "        mkdir(filename)\n",
    "    end\n",
    "\n",
    "    filename = string(filename, \"/cell_locations_\", run_name)\n",
    "    \n",
    "    open(filename, \"w\") do file\n",
    "        for (t, matrix) in enumerate(cell_locations_over_time)\n",
    "            for row in eachrow(matrix)\n",
    "                println(file, join(row, \",\"))\n",
    "            end\n",
    "            println(file, \"\")  # Separate snapshots with a newline\n",
    "        end\n",
    "    end\n",
    "end"
   ]
  },
  {
   "cell_type": "markdown",
   "id": "79f9b0fc",
   "metadata": {},
   "source": [
    "# Run the simuliation from here:"
   ]
  },
  {
   "cell_type": "markdown",
   "id": "4e428ee7",
   "metadata": {},
   "source": [
    "## Multithreading\n",
    "If you would like to run this simulation using multiple threads, scroll to the bottom of the notebook, one box below the main simulation run box. You will see a short program that installs a jupyter kernel that allocates a user-specified number of threads for Julia. 8 threads are the recommended number based on our testing, but anything between 4-10 should could be efficient. After doing this, you may have to refresh the jupyter lab page. Click on the top right on the kernel (It should say something like \"Julia v.#.#\". Change the kernel to \"Julia # Threads\", or whatever you named the new kernel you installed. Now, run the simulation as you normally would!\n",
    "## Data to save from the simulation\n",
    "Choose whether you would like to save the simulation data to a database and whether you would like to display the output as graphs. If you would like to save the images of the graphs as a gif, open terminal/command line and type \n",
    "```\n",
    "cd IBMAggregateModeling/graphs\n",
    "```\n",
    "```\n",
    "python3 make_gif.py\n",
    "```\n",
    "to create a gif.\n",
    "This enum allows the user to choose what type of boundary condition they would like to use.\\nThis enum allows the user to choose what type of boundary condition they would like to use.\\nThe choices are:\n",
    "- Periodic:\n",
    "  - Each cell that crosses boundary loops over to other side of map\n",
    "- Outflow:\n",
    "  - Each cell the crosses boundary is deleted from the aggregate (cell death)"
   ]
  },
  {
   "cell_type": "code",
   "execution_count": 93,
   "id": "0e7c3641",
   "metadata": {},
   "outputs": [],
   "source": [
    "############################### SETUP ####################################\n",
    "@enum BoundaryConditions PERIODIC=1 OUTFLOW REFLECTIVE\n",
    "##########################################################################"
   ]
  },
  {
   "cell_type": "code",
   "execution_count": 94,
   "id": "83fb99f7-1443-42f5-a7c6-11fe290d31a9",
   "metadata": {},
   "outputs": [
    {
     "data": {
      "text/plain": [
       "OUTFLOW::BoundaryConditions = 2"
      ]
     },
     "execution_count": 94,
     "metadata": {},
     "output_type": "execute_result"
    }
   ],
   "source": [
    "BOUNDARY_CONDITION = OUTFLOW::BoundaryConditions"
   ]
  },
  {
   "cell_type": "code",
   "execution_count": 149,
   "id": "d3e95a4c",
   "metadata": {},
   "outputs": [],
   "source": [
    "using ThreadsX\n",
    "using Base.Threads\n",
    "using Dates\n",
    "\n",
    "######################## SIMULATION PARAMETERS #############################\n",
    "HOURS =  125 # Number of hours for the simulation to run\n",
    "NUM_RUNS = 1\n",
    "SIM_DT = 0.01\n",
    "RESOURCE_DT_SCALING_FACTOR = 1000\n",
    "RESOURCE_DT = SIM_DT/RESOURCE_DT_SCALING_FACTOR\n",
    "T_MAX = round(Int, HOURS / SIM_DT) # Number of time steps is the number of hours divided by the SIM_DT\n",
    "INITIAL_AGGREGATES = 4 # Initial number of aggregates\n",
    "AGGREGATE_SIZE = 5 # Original aggregate size\n",
    "PROB_MOVE = 0.9 # Probability the cell moves in any given iteration\n",
    "PROB_DEATH = 0.1 # Probability cell dies over the course of an hour       # SET BACK TO 0.05\n",
    "NO_MERGE_ON_COLLISION_PROBABILITY = 10 # SET BACK TO 0.95\n",
    "CREATES_OWN_AGG_PROBABILITY = 0.5 # SET BACK TO 0.50\n",
    "BREAK_PROBABILITY = 0\n",
    "BREAKAWAY_DIST = 2\n",
    "MAX_GROWTH_RATE = 0.25 # Max growth rate for 'species 1'\n",
    "NEWCELL_MAX_DIST = 1 # The maximum distance in x and y direction away from the parent a new cell can form\n",
    "COLLISION_DISTANCE = 1 # 2 - This is reflective of Pseudomonas A.'s dimensions (0.5-1 x 1-5 micrometers)\n",
    "SHEDDING_FLOOR = 70 # Aggregate size at which shedding becomes likely\n",
    "MOV_MAGNITUDE = 10 # The distance a cell can move in the x and y directions\n",
    "DIFFUSION_COEFFICIENT = 15 # micrometer squared\n",
    "RESOURCE_DIFFUSION = 2\n",
    "DENSITY_DEPENDENT_MOVEMENT_THRESHOLD = 5 # Aggregate size at which movement starts slowing down\n",
    "MAX_CELL_STACK_VOLUME = 4 # How many cells can be within a 1x1 micron space\n",
    "\n",
    "# Lattice variables\n",
    "CMAP=:Purples\n",
    "CLIM=(-10,10)\n",
    "POS_LIM_X = 6\n",
    "POS_LIM_Y = 6\n",
    "NEG_LIM_X = -6\n",
    "NEG_LIM_Y = -6\n",
    "LATTICE_SPACING = 0.075 # Size of individual lattice space - ensure that POS_LIM - NEG_LIM is divisble by this\n",
    "LATTICE_RESOLUTION_Y = Int64(round((POS_LIM_X - NEG_LIM_X) / LATTICE_SPACING)) # lattice = (LATTICE_RESOLUTION_Y x LATTICE_RESOLUTION_X)\n",
    "LATTICE_RESOLUTION_X = Int64(round((POS_LIM_Y - NEG_LIM_Y) / LATTICE_SPACING))\n",
    "\n",
    "# Boundary conditions\n",
    "BOUNDARY_CONDITION = OUTFLOW::BoundaryConditions\n",
    "INFLOW_GRADIENT = 0*LATTICE_SPACING*LATTICE_SPACING\n",
    "OUTFLOW_GRADIENT = 0*LATTICE_SPACING*LATTICE_SPACING\n",
    "\n",
    "# Resource \n",
    "RESOURCE = Resource(0.3, 0.5, Lattice(LATTICE_RESOLUTION_X, LATTICE_RESOLUTION_Y, zeros(Float64,1,1), RESOURCE_DIFFUSION))\n",
    "TOTAL_RESOURCE = 0  # This is total resource in the system\n",
    "INITIAL_RESOURCE = TOTAL_RESOURCE/(LATTICE_RESOLUTION_X * LATTICE_RESOLUTION_Y)   # This is resource per cell\n",
    "INITIALIZE_RESOURCE_TO_UNIFORM = true   # If true - uniform resource, if false - random resource\n",
    "\n",
    "# Added Chemicals\n",
    "ADDED_CHEMICALS = AddedChemical[]\n",
    "# push!(ADDED_CHEMICALS, C10_CPA(1, 4)) # Use C10-CPA as a quorum quencher to reduce aggregation\n",
    "#push!(ADDED_CHEMICALS, C10_CPA(11, 4)) # Use C10-CPA as a quorum quencher to reduce aggregation\n",
    "# push!(ADDED_CHEMICALS, CIPROFLOXACIN(2)) # bactericidal antibiotic that kills P. aeruginosa (half-life = 4 hours)\n",
    "# push!(ADDED_CHEMICALS, CIPROFLOXACIN(11)) # bactericidal antibiotic that kills P. aeruginosa (half-life = 4 hours)\n",
    "# push!(ADDED_CHEMICALS, BACTERIOSTATIC(1, 4)) # Model for a bacteriostatic antibiotic's implementation\n",
    "# push!(ADDED_CHEMICALS, BACTERIOSTATIC(11, 4)) # Model for a bacteriostatic antibiotic's implementation\n",
    "\n",
    "# Public Goods\n",
    "PUBLIC_GOOD_ON = false\n",
    "PUBLIC_GOOD = PublicGood(0, 50, 10, 0.5, Lattice(LATTICE_RESOLUTION_X, LATTICE_RESOLUTION_Y, zeros(Float64,1,1),0))\n",
    "PUBLIC_GOOD_DENSITY_THRESHOLD = 9\n",
    "PUBLIC_GOOD_RESOURCE_THRESHOLD = 1450\n",
    "\n",
    "# Data Collection variables\n",
    "GENERATE_GRAPHS = true\n",
    "SAVE_PARAMETERS = false\n",
    "SAVE_AGG_SIZE_DIST = true # Not currently implemented\n",
    "SAVE_AGGREGATE_GROWTH_RATE = false\n",
    "SAVE_RESOURCE = false \n",
    "SAVE_PUBLIC_GOOD = false\n",
    "SAVE_CELLS = false\n",
    "SAVE_RESOURCE_GRANULARITY = 500 # Sim will save resource after every 'SAVE_RESOURCE_GRANULARITY' timesteps\n",
    "\n",
    "TEST_DIRECTORY = \"paper-figures/pace/4.1_growth-separation/final-tests/graphs\" # This directory holding the simulation data is stored in 'experiments'\n",
    "RUN_NAME = \"\"\n",
    "\n",
    "############################################################################\n",
    "# Set clock\n",
    "start_time = time()\n",
    "\n",
    "# Run sim\n",
    "ThreadsX.foreach(1:NUM_RUNS) do i\n",
    "    run_name = RUN_NAME * \"test\" * string(i)\n",
    "    run(run_name)\n",
    "end\n",
    "\n",
    "# const N_THREADS = nthreads()\n",
    "# println(\"Running on $N_THREADS threads\")\n",
    "\n",
    "# # Array to hold tasks\n",
    "# tasks = Vector{Task}()\n",
    "\n",
    "# for i in 1:NUM_RUNS\n",
    "#     t = Threads.@spawn begin\n",
    "#         run_name = RUN_NAME * \"test\" * string(i)\n",
    "#         # Optional: minimal print to see progress\n",
    "#         println(\"Starting run $i on thread $(threadid()) at $(Dates.now())\")\n",
    "        \n",
    "#         # Run simulation\n",
    "#         run(run_name)\n",
    "        \n",
    "#         # Free memory between runs\n",
    "#         GC.gc()\n",
    "        \n",
    "#         println(\"Finished run $i at $(Dates.now())\")\n",
    "#     end\n",
    "#     push!(tasks, t)\n",
    "# end\n",
    "# wait.(tasks)\n",
    "\n",
    "# End clock\n",
    "end_time = time()\n",
    "RUN_TIME = round(end_time - start_time, digits=2)\n",
    "\n",
    "# Save necessary parameters\n",
    "save_parameters()"
   ]
  },
  {
   "cell_type": "markdown",
   "id": "fee6780e-1947-48cb-808e-4145e87e5be1",
   "metadata": {},
   "source": [
    "# "
   ]
  },
  {
   "cell_type": "code",
   "execution_count": null,
   "id": "0b55b3ff-c01a-455c-9ff6-34014fbeb955",
   "metadata": {},
   "outputs": [],
   "source": [
    "using Base.Threads\n",
    "\n",
    "using IJulia\n",
    "IJulia.installkernel(\"Julia 4 Threads\", env=Dict(\n",
    "    \"JULIA_NUM_THREADS\" => \"4\",\n",
    "))"
   ]
  }
 ],
 "metadata": {
  "@webio": {
   "lastCommId": "4ca5da42-1f5d-49e1-81a1-658f19cc32bc",
   "lastKernelId": "9baf5d9c-deb6-40a8-a972-65846b0e3752"
  },
  "kernelspec": {
   "display_name": "Julia 4 Threads 1.10.0",
   "language": "julia",
   "name": "julia-4-threads-1.10"
  },
  "language_info": {
   "file_extension": ".jl",
   "mimetype": "application/julia",
   "name": "julia",
   "version": "1.10.0"
  }
 },
 "nbformat": 4,
 "nbformat_minor": 5
}
