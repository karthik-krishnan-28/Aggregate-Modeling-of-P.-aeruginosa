{
 "cells": [
  {
   "cell_type": "markdown",
   "id": "3f949d38",
   "metadata": {},
   "source": [
    "# 2D Aggregates Simulation\n",
    "A simulation of 2D that demonstrates random motion of bacteria cells.<br><br>\n",
    "Each cell is within an aggregate, even if it is the only cell that is in that aggregate. This allows the aggregates to add cells through collision and birth. Additionally, aggregates can lose cells when cells simply break apart or when cells die. The goal of this simulation is to provide information on how the aggregation of bacteria (specifically *Pseudomonas A.*)"
   ]
  },
  {
   "cell_type": "markdown",
   "id": "81b2b9c1",
   "metadata": {},
   "source": [
    "## Cell Level Properties\n",
    "* Birth\n",
    "* Death\n",
    "* Growth Rate"
   ]
  },
  {
   "cell_type": "code",
   "execution_count": 1,
   "id": "70373e5e",
   "metadata": {},
   "outputs": [],
   "source": [
    "mutable struct Cell\n",
    "    x::Float64\n",
    "    y::Float64\n",
    "    prob_birth::Float64\n",
    "    dist_from_root_x::Float64\n",
    "    dist_from_root_y::Float64\n",
    "end"
   ]
  },
  {
   "cell_type": "markdown",
   "id": "7bac7d25",
   "metadata": {},
   "source": [
    "## Cell Functions\n",
    "- periodic_boundary(cell)\n",
    "  - Loops the cell to the other side of the map when it crosses the boundaries"
   ]
  },
  {
   "cell_type": "code",
   "execution_count": 2,
   "id": "37732ba7",
   "metadata": {},
   "outputs": [
    {
     "data": {
      "text/plain": [
       "periodic_boundary (generic function with 1 method)"
      ]
     },
     "execution_count": 2,
     "metadata": {},
     "output_type": "execute_result"
    }
   ],
   "source": [
    "function periodic_boundary(cell::Cell)\n",
    "    if cell.x > POS_LIM\n",
    "        cell.x = NEG_LIM + 1\n",
    "    elseif cell.x < NEG_LIM\n",
    "        cell.x = POS_LIM - 1\n",
    "    end\n",
    "    if cell.y > POS_LIM\n",
    "        cell.y = NEG_LIM + 1\n",
    "    elseif cell.y < NEG_LIM\n",
    "        cell.y = POS_LIM - 1\n",
    "    end\n",
    "end"
   ]
  },
  {
   "cell_type": "code",
   "execution_count": 3,
   "id": "5a9af887",
   "metadata": {},
   "outputs": [
    {
     "data": {
      "text/plain": [
       "reflective_boundary (generic function with 1 method)"
      ]
     },
     "execution_count": 3,
     "metadata": {},
     "output_type": "execute_result"
    }
   ],
   "source": [
    "function reflective_boundary(cell::Cell, dx, dy)\n",
    "    if ((cell.x + dx) > POS_LIM)\n",
    "        cell.x = POS_LIM - (dx + cell.x - POS_LIM)\n",
    "    elseif ((cell.x + dx) < NEG_LIM)\n",
    "        cell.x = NEG_LIM - (dx + cell.x - NEG_LIM)\n",
    "    else\n",
    "        cell.x += dx\n",
    "    end\n",
    "    if ((cell.y + dy) > POS_LIM)\n",
    "        cell.y = POS_LIM - (dy + cell.y - POS_LIM)\n",
    "    elseif ((cell.y + dy) < negLim)\n",
    "        cell.x = NEG_LIM - (dy + cell.y - NEG_LIM)\n",
    "    else\n",
    "        cell.y += dy\n",
    "    end\n",
    "end"
   ]
  },
  {
   "cell_type": "code",
   "execution_count": 4,
   "id": "79567651",
   "metadata": {},
   "outputs": [
    {
     "data": {
      "text/plain": [
       "generate_newcell (generic function with 1 method)"
      ]
     },
     "execution_count": 4,
     "metadata": {},
     "output_type": "execute_result"
    }
   ],
   "source": [
    "function generate_newcell(parent_cell::Cell)\n",
    "    x_diff = 4 * rand() - 2\n",
    "    y_diff = 4 * rand() - 2\n",
    "    newcell = Cell(\n",
    "        parent_cell.x + x_diff,\n",
    "        parent_cell.y + y_diff,\n",
    "        parent_cell.prob_birth,\n",
    "        parent_cell.dist_from_root_x + x_diff,\n",
    "        parent_cell.dist_from_root_y + y_diff\n",
    "    )\n",
    "    return newcell\n",
    "end"
   ]
  },
  {
   "cell_type": "markdown",
   "id": "f63228dd",
   "metadata": {},
   "source": [
    "## Aggregate Level Properties\n",
    "* Movement\n",
    "* Color"
   ]
  },
  {
   "cell_type": "code",
   "execution_count": 5,
   "id": "e0f958e2",
   "metadata": {},
   "outputs": [],
   "source": [
    "import ColorTypes\n",
    "mutable struct Aggregate\n",
    "    cells::Set{Cell}\n",
    "    rgb::ColorTypes.RGBA\n",
    "    size::Int32\n",
    "    root::Cell\n",
    "end"
   ]
  },
  {
   "cell_type": "markdown",
   "id": "2bf5a848",
   "metadata": {},
   "source": [
    "## Aggregate Functions\n",
    "- collision(aggregate1, aggregate2)\n",
    "  - handles the collision between 2 aggregates\n",
    "- add_cell(aggregate, cell)\n",
    "  - adds the cell to the aggregate\n",
    "- del_cell(aggregate, cell)\n",
    "  - removes the cell from the aggregate\n",
    "- merge_aggregates(aggregate1, aggregate2)\n",
    "  - adds all of one aggregates cells to another aggregate\n",
    "direction\n"
   ]
  },
  {
   "cell_type": "code",
   "execution_count": 6,
   "id": "925040c3",
   "metadata": {},
   "outputs": [
    {
     "data": {
      "text/plain": [
       "collision (generic function with 1 method)"
      ]
     },
     "execution_count": 6,
     "metadata": {},
     "output_type": "execute_result"
    }
   ],
   "source": [
    "function collision(aggregate::Aggregate, new_aggregate::Aggregate)\n",
    "    for cell1 in aggregate.cells\n",
    "        for cell2 in new_aggregate.cells\n",
    "            if (sqrt((cell1.x - cell2.x)^2 + (cell1.y - cell2.y)^2) <= COLLISION_DISTANCE)\n",
    "                return true\n",
    "            end\n",
    "        end\n",
    "    end\n",
    "    return false\n",
    "end"
   ]
  },
  {
   "cell_type": "code",
   "execution_count": 7,
   "id": "2bccea8a",
   "metadata": {},
   "outputs": [
    {
     "data": {
      "text/plain": [
       "add_cell (generic function with 1 method)"
      ]
     },
     "execution_count": 7,
     "metadata": {},
     "output_type": "execute_result"
    }
   ],
   "source": [
    "function add_cell(aggregate::Aggregate, cell::Cell)\n",
    "    push!(aggregate.cells, cell)\n",
    "    aggregate.size += 1\n",
    "end"
   ]
  },
  {
   "cell_type": "code",
   "execution_count": 8,
   "id": "2c0f23d5",
   "metadata": {},
   "outputs": [
    {
     "data": {
      "text/plain": [
       "del_cell (generic function with 1 method)"
      ]
     },
     "execution_count": 8,
     "metadata": {},
     "output_type": "execute_result"
    }
   ],
   "source": [
    "function del_cell(aggregate::Aggregate, cell::Cell)\n",
    "    delete!(aggregate.cells, cell)\n",
    "    aggregate.size -= 1\n",
    "end"
   ]
  },
  {
   "cell_type": "code",
   "execution_count": 9,
   "id": "d444b2c8",
   "metadata": {},
   "outputs": [
    {
     "data": {
      "text/plain": [
       "merge_aggregates (generic function with 1 method)"
      ]
     },
     "execution_count": 9,
     "metadata": {},
     "output_type": "execute_result"
    }
   ],
   "source": [
    "function merge_aggregates(Aggregate_Map::Set{Aggregate}, aggregate::Aggregate, new_aggregate::Aggregate)\n",
    "    # Completes a union of the aggregate.cells sets\n",
    "    union!(aggregate.cells, new_aggregate.cells)\n",
    "    aggregate.size += length(new_aggregate.cells)\n",
    "    delete!(Aggregate_Map, new_aggregate)\n",
    "end"
   ]
  },
  {
   "cell_type": "code",
   "execution_count": 10,
   "id": "73abc419",
   "metadata": {},
   "outputs": [
    {
     "data": {
      "text/plain": [
       "break_apart (generic function with 1 method)"
      ]
     },
     "execution_count": 10,
     "metadata": {},
     "output_type": "execute_result"
    }
   ],
   "source": [
    "function break_apart(Aggregate_Map::Set{Aggregate}, aggregate::Aggregate, breakaway_cell::Cell)\n",
    "    breakaway_dist_x = breakaway_cell.dist_from_root_x\n",
    "    breakaway_dist_y = breakaway_cell.dist_from_root_y\n",
    "    \n",
    "    x_mov = 2\n",
    "    if breakaway_dist_x < 0\n",
    "        x_mov = -2\n",
    "    end\n",
    "\n",
    "    y_mov = 2\n",
    "    if breakaway_dist_y < 0\n",
    "        y_mov = -2\n",
    "    end\n",
    "        \n",
    "    breakaway_cell.x += x_mov\n",
    "    breakaway_cell.y += y_mov\n",
    "    \n",
    "    # Create new aggregate with the cell as root\n",
    "    new_aggregate = Aggregate(\n",
    "        Set{Cell}([breakaway_cell]),\n",
    "        RGBA(rand(), rand(), rand(), 1),\n",
    "        Int32(1),\n",
    "        breakaway_cell\n",
    "    )\n",
    "    delete!(aggregate.cells, breakaway_cell)\n",
    "                \n",
    "    push!(Aggregate_Map, new_aggregate)\n",
    "\n",
    "end"
   ]
  },
  {
   "cell_type": "markdown",
   "id": "11fbee36",
   "metadata": {},
   "source": [
    "## Lattice\n",
    "We use this struct to keep track of nutrient and cell concentrations. So far, there are two main instances of the lattice class in the simulation. For more information, read about Fick's Second Law.\n",
    "* nutrient_lattice is a 2D array that keeps track of the amount of nutrient available in each location\n",
    "* cell_density_lattice is a 2D array that keeps track of the density of cells in each location. This is directly mappable to the nutrient lattice.\n",
    "### Lattice Properties\n",
    "    * mesh_size: the dimensions of the lattice are mesh_size x mesh_size\n",
    "    * matrix: the matrix representing the lattice\n",
    "    * diffusion_coefficient: proporitionality constant between the flux and the gradient of the concentration\n",
    "    * diffusion_dt: the proportion of a diffusion time step with respect to the simulation time step (e.g a diffusion_dt of 0.1 means nutrient diffusion occurs 10 times per simulation time step)"
   ]
  },
  {
   "cell_type": "code",
   "execution_count": 11,
   "id": "01cc68f4",
   "metadata": {},
   "outputs": [],
   "source": [
    "mutable struct Lattice\n",
    "    mesh_size::Int64\n",
    "    matrix::Matrix{Float64}\n",
    "    diffusion_coefficient::Int64\n",
    "    diffusion_dt::Float64\n",
    "end"
   ]
  },
  {
   "cell_type": "markdown",
   "id": "215d03fa",
   "metadata": {},
   "source": [
    "## Lattice Functions\n",
    "- initialize_nutrient(lattice)\n",
    "  - randomly initializes the gradient of the lattice\n",
    "- initalize_density_to_zero(lattice)\n",
    "  - initializes the density lattice by setting all \n",
    "- show_lattice(lattice)\n",
    "  - visualizes the lattice\n",
    "- calc_diffusion(lattice)\n",
    "  - calculates the calculates the new nutrient lattice after diffusion\n",
    "- calc_lattice_coords(x, y)\n",
    "  - calculates the coordinates of a cell within the density lattice"
   ]
  },
  {
   "cell_type": "code",
   "execution_count": 12,
   "id": "c44eb868",
   "metadata": {},
   "outputs": [
    {
     "data": {
      "text/plain": [
       "initialize_nutrient (generic function with 1 method)"
      ]
     },
     "execution_count": 12,
     "metadata": {},
     "output_type": "execute_result"
    }
   ],
   "source": [
    "function initialize_nutrient(lattice::Lattice)\n",
    "    # lattice.matrix = 10 .* rand(Float64, (lattice.mesh_size, lattice.mesh_size))\n",
    "    lattice.matrix = 10 .+ zeros(Float64, (lattice.mesh_size, lattice.mesh_size))\n",
    "end"
   ]
  },
  {
   "cell_type": "code",
   "execution_count": 13,
   "id": "a48d7b88",
   "metadata": {},
   "outputs": [
    {
     "data": {
      "text/plain": [
       "initialize_density_to_zero (generic function with 1 method)"
      ]
     },
     "execution_count": 13,
     "metadata": {},
     "output_type": "execute_result"
    }
   ],
   "source": [
    "function initialize_density_to_zero(lattice::Lattice)\n",
    "    lattice.matrix = zeros(Float64, (lattice.mesh_size, lattice.mesh_size))\n",
    "end"
   ]
  },
  {
   "cell_type": "code",
   "execution_count": 14,
   "id": "42913e5c",
   "metadata": {},
   "outputs": [
    {
     "data": {
      "text/plain": [
       "show_lattice (generic function with 1 method)"
      ]
     },
     "execution_count": 14,
     "metadata": {},
     "output_type": "execute_result"
    }
   ],
   "source": [
    "using Plots\n",
    "\n",
    "# Not to scale yet\n",
    "function show_lattice(lattice::Lattice)\n",
    "    return heatmap(\n",
    "        lattice.matrix',\n",
    "        color=:auto,\n",
    "        xlabel=\"Mesh X Index\",\n",
    "        ylabel=\"Mesh Y Index\",\n",
    "        c=:Purples,\n",
    "        xlims=(0, lattice.mesh_size),\n",
    "        ylims=(0, lattice.mesh_size),\n",
    "        clim=(0, 10),\n",
    "        aspect_ratio=:equal,\n",
    "    )\n",
    "    Colorbar(map[1, 2], pltobj, label = \"Reverse sequential colormap\")\n",
    "    return map\n",
    "end"
   ]
  },
  {
   "cell_type": "code",
   "execution_count": 15,
   "id": "c8065270",
   "metadata": {},
   "outputs": [
    {
     "data": {
      "text/plain": [
       "calculate_diffusion (generic function with 1 method)"
      ]
     },
     "execution_count": 15,
     "metadata": {},
     "output_type": "execute_result"
    }
   ],
   "source": [
    "function calculate_diffusion(lattice)\n",
    "    y_flux = lattice.matrix[2:end, :] .- lattice.matrix[1:end-1, :]\n",
    "    y_flux_padded = zeros(Float64, (lattice.mesh_size + 1, lattice.mesh_size))\n",
    "    \n",
    "    # Scale gradient at boundary to control inflow and outflow\n",
    "    y_flux_padded[1,:] .+= (1  * OUTFLOW_GRADIENT)\n",
    "    y_flux_padded[MESH_SIZE + 1,:] .+= (1 * INFLOW_GRADIENT)\n",
    "    \n",
    "    y_flux_padded[2:end-1, :] .= y_flux\n",
    "    y_flux_padded *= -lattice.diffusion_coefficient\n",
    "    y_flux_padded /= LATTICE_THICKNESS\n",
    "        \n",
    "    \n",
    "    dC = (y_flux_padded[2:end, :] .- y_flux_padded[1:end-1, :])/(-LATTICE_THICKNESS)\n",
    "    \n",
    "    x_flux = lattice.matrix[:, 2:end] .- lattice.matrix[:, 1:end-1]\n",
    "    x_flux_padded = zeros(Float64, (lattice.mesh_size, lattice.mesh_size + 1))\n",
    "    \n",
    "    # Scale gradient at boundary to control inflow and outflow\n",
    "    x_flux_padded[:, 1] .+= (1  * OUTFLOW_GRADIENT)\n",
    "    x_flux_padded[:, MESH_SIZE + 1] .+= (1 * INFLOW_GRADIENT)\n",
    "    \n",
    "    x_flux_padded[:, 2:end-1] .= x_flux\n",
    "    x_flux_padded *= -lattice.diffusion_coefficient\n",
    "    x_flux_padded /= LATTICE_THICKNESS\n",
    "    \n",
    "    # add flux gradient to rate of change\n",
    "    dC = dC - ((x_flux_padded[:, 2:end] .- x_flux_padded[:, 1:end-1]) / LATTICE_THICKNESS)\n",
    "    \n",
    "    # calculate delta C by multiplying with delta t and add to old array\n",
    "    lattice.matrix .+= dC*lattice.diffusion_dt\n",
    "end"
   ]
  },
  {
   "cell_type": "code",
   "execution_count": 16,
   "id": "12f73a71",
   "metadata": {},
   "outputs": [
    {
     "data": {
      "text/plain": [
       "calculate_lattice_coords (generic function with 1 method)"
      ]
     },
     "execution_count": 16,
     "metadata": {},
     "output_type": "execute_result"
    }
   ],
   "source": [
    "function calculate_lattice_coords(x, y)\n",
    "    x_coord = trunc(Int64, (x + abs(NEG_LIM)) / LATTICE_THICKNESS)\n",
    "    if x_coord == 0\n",
    "        x_coord += 1\n",
    "    end\n",
    "    y_coord = trunc(Int64, (y + abs(NEG_LIM)) / LATTICE_THICKNESS)\n",
    "    if y_coord == 0\n",
    "        y_coord += 1\n",
    "    end\n",
    "    # y_coord = ceil(Int64, (y + 0.0001 + abs(NEG_LIM)) / LATTICE_THICKNESS)\n",
    "    # if y_coord > MESH_SIZE\n",
    "    #     y_coord -= 1\n",
    "    # end\n",
    "    return (x_coord, y_coord)\n",
    "end"
   ]
  },
  {
   "cell_type": "markdown",
   "id": "683c9708",
   "metadata": {},
   "source": [
    "## Simulation Code"
   ]
  },
  {
   "cell_type": "code",
   "execution_count": 53,
   "id": "d37548b3",
   "metadata": {},
   "outputs": [
    {
     "data": {
      "text/plain": [
       "run (generic function with 2 methods)"
      ]
     },
     "execution_count": 53,
     "metadata": {},
     "output_type": "execute_result"
    }
   ],
   "source": [
    "import Base.run\n",
    "using ColorTypes\n",
    "function run()\n",
    "    db = connect_to_db()\n",
    "    Aggregate_Map = Set{Aggregate}()\n",
    "    for cell in 1:INITIAL_PCELLS\n",
    "        growth_rate = SLOW_GROWTH_RATE\n",
    "        newcell = nothing\n",
    "        if rand() >= .5\n",
    "            growth_rate = FAST_GROWTH_RATE\n",
    "        end\n",
    "        newcell = Cell(\n",
    "            rand((NEG_LIM / 2, POS_LIM / 2)),\n",
    "            rand((NEG_LIM / 2, POS_LIM / 2)),\n",
    "            growth_rate,\n",
    "            0,\n",
    "            0\n",
    "        )\n",
    "        new_aggregate = Aggregate(\n",
    "                Set{Cell}([newcell]),\n",
    "                RGBA(rand(), rand(), rand(), 1),\n",
    "                Int32(1),\n",
    "                newcell\n",
    "            )\n",
    "        push!(Aggregate_Map, new_aggregate)\n",
    "        for i in 1:AGGREGATE_SIZE-1\n",
    "            child_cell = generate_newcell(newcell)\n",
    "            add_cell(new_aggregate, child_cell)\n",
    "        end\n",
    "    end\n",
    "    \n",
    "    # Initialize the nutrient lattice\n",
    "    nutrient_lattice = Lattice(MESH_SIZE, zeros(Float64, MESH_SIZE, MESH_SIZE),\n",
    "        DIFFUSION_COEFFICIENT, DIFFUSION_DT)\n",
    "    initialize_nutrient(nutrient_lattice)\n",
    "    \n",
    "    # Create and initialize the density map\n",
    "    cell_density_lattice = Lattice(MESH_SIZE, zeros(Float64, MESH_SIZE, MESH_SIZE),\n",
    "        DIFFUSION_COEFFICIENT, DIFFUSION_DT)\n",
    "    # Updates density map based on initial cell conditions\n",
    "    for aggregate in Aggregate_Map\n",
    "        for cell in aggregate.cells\n",
    "            x, y = calculate_lattice_coords(cell.x, cell.y)\n",
    "            cell_density_lattice.matrix[x, y] += 1\n",
    "        end\n",
    "    end\n",
    "    \n",
    "    \n",
    "    photo_file_list = []\n",
    "    for i in 1:T_MAX\n",
    "        photo_file = \"graphs/\" * string(i) * \".png\"\n",
    "        push!(photo_file_list, photo_file)\n",
    "        \n",
    "        cell_density_lattice_placeholder = cell_density_lattice\n",
    "        \n",
    "        for aggregate in Aggregate_Map\n",
    "            move = rand() < PROB_MOVE # Decides whether or not the aggregate moves\n",
    "            if move\n",
    "                dir = rand() * 2 * π\n",
    "                dx = 10 * cos(dir) # Change in y\n",
    "                dy = 10 * sin(dir) # Change in x\n",
    "            end\n",
    "            new_cells = Set{Cell}() # These cells are added to aggregate during time step\n",
    "            for cell in aggregate.cells\n",
    "                if !(cell in new_cells) # Makes sure that a new cell does not reproduce\n",
    "                    nutrient_x, nutrient_y = calculate_lattice_coords(cell.x, cell.y)\n",
    "                    # Check if cell dies\n",
    "                    if rand() < PROB_DEATH\n",
    "                        del_cell(aggregate, cell)\n",
    "                        if aggregate.size <= 0\n",
    "                            delete!(Aggregate_Map, aggregate)\n",
    "                        end\n",
    "                        cell_density_lattice.matrix[nutrient_x, nutrient_y] -= 1\n",
    "                        continue\n",
    "                    end\n",
    "                    # Check if cell breaks apart\n",
    "                    break_probability = BREAK_PROBABILITY\n",
    "                    # Aggregates tend to start shedding cells more at about 70 shells\n",
    "                    if aggregate.size >= 70\n",
    "                        break_probability += .01 * maximum(10, aggregate.size - 69)\n",
    "                    end\n",
    "                    if aggregate.size > 1 && rand() < break_probability\n",
    "                        break_apart(Aggregate_Map, aggregate, cell)\n",
    "                        if aggregate.size <= 0\n",
    "                            delete!(Aggregate_Map, aggregate)\n",
    "                        end\n",
    "                        continue\n",
    "                    end\n",
    "\n",
    "                    # Move cell\n",
    "                    if move\n",
    "                        cell.x += dx\n",
    "                        cell.y += dy\n",
    "                        cell_density_lattice.matrix[nutrient_x, nutrient_y] -= 1\n",
    "                        # Check boundary condition\n",
    "                        if cell.x > POS_LIM || cell.x < NEG_LIM ||\n",
    "                            cell.y > POS_LIM || cell.y < NEG_LIM\n",
    "                            # User can set the boundary condition which determines how a cell\n",
    "                            # that has exited the boundaries is handled\n",
    "                            if BOUNDARY_CONDITION == PERIODIC::BoundaryConditions\n",
    "                                periodic_boundary(cell)\n",
    "                            elseif BOUNDARY_CONDITION == OUTFLOW::BoundaryConditions\n",
    "                                del_cell(aggregate, cell)\n",
    "                                if aggregate.size <= 0\n",
    "                                    delete!(Aggregate_Map, aggregate)\n",
    "                                        end\n",
    "                                continue\n",
    "                            elseif BOUNDARY_COUNDITION == REFLECTIVE::BoundaryConditions\n",
    "                                reflective_boundary(cell, dx, dy)\n",
    "                            end\n",
    "                        end\n",
    "                        new_nutrient_x, new_nutrient_y = calculate_lattice_coords(cell.x, cell.y)\n",
    "                        cell_density_lattice.matrix[new_nutrient_x, new_nutrient_y] += 1\n",
    "                    end\n",
    "\n",
    "                    \n",
    "                    if nutrient_lattice.matrix[nutrient_x, nutrient_y] < 0\n",
    "                        nutrient_lattice.matrix[nutrient_x, nutrient_y] = 0\n",
    "                    end\n",
    "                    \n",
    "                    # Use P(N -> N+1) formula for growth probability\n",
    "                    cell.prob_birth = MAX_GROWTH_RATE * (nutrient_lattice.matrix[nutrient_x, nutrient_y] /\n",
    "                        (HALF_MAXIMAL_CONCENTRATION + nutrient_lattice.matrix[nutrient_x, nutrient_y])) * SIM_DT\n",
    "                    \n",
    "                    if rand() < cell.prob_birth\n",
    "                        newcell = generate_newcell(cell)\n",
    "\n",
    "                        if rand() < CREATES_OWN_AGG_PROBABILITY\n",
    "                            # Create new aggregate for newcell\n",
    "                            push!(\n",
    "                                Aggregate_Map, \n",
    "                                Aggregate(\n",
    "                                    Set([newcell]),\n",
    "                                    RGBA(rand(), rand(), rand(), 1),\n",
    "                                    Int32(1),\n",
    "                                    newcell\n",
    "                                )\n",
    "                            )\n",
    "                        else\n",
    "                            add_cell(aggregate, newcell)\n",
    "                        end\n",
    "                        push!(new_cells, newcell)\n",
    "                        new_cell_nutrient_x, new_cell_nutrient_y = \n",
    "                            calculate_lattice_coords(newcell.x, newcell.y)\n",
    "                        cell_density_lattice.matrix[new_cell_nutrient_x, new_cell_nutrient_y] += 1\n",
    "                    end\n",
    "                end\n",
    "            end\n",
    "\n",
    "            if aggregate.size <= 0\n",
    "                delete!(Aggregate_Map, aggregate)\n",
    "                break\n",
    "            else\n",
    "                for aggregate2 in Aggregate_Map\n",
    "                    if aggregate2 != aggregate\n",
    "                        if collision(aggregate, aggregate2)\n",
    "                            if rand() < MERGE_ON_COLLISION_PROBABILITY\n",
    "                                if aggregate.size >= aggregate2.size\n",
    "                                    merge_aggregates(Aggregate_Map, aggregate, aggregate2)\n",
    "                                else\n",
    "                                    merge_aggregates(Aggregate_Map, aggregate2, aggregate)\n",
    "                                end\n",
    "                            end\n",
    "                        end\n",
    "                    end\n",
    "                end\n",
    "            end\n",
    "        end\n",
    "        \n",
    "        if GENERATE_GRAPHS\n",
    "            cell_movement = plot_agg(Aggregate_Map, photo_file, i)\n",
    "            nutrient_graph = show_lattice(nutrient_lattice)\n",
    "            create_plots(cell_movement, nutrient_graph, photo_file)\n",
    "        end\n",
    "        if WRITE_TO_DB\n",
    "            write_to_db(Aggregate_Map, db, i)\n",
    "        end\n",
    "        \n",
    "        # Update resource (Use cell_density_placeholder to update lattice)\n",
    "        nutrient_time_steps = 1 / DIFFUSION_DT\n",
    "        for j in 1:nutrient_time_steps\n",
    "            calculate_diffusion(nutrient_lattice)\n",
    "        end\n",
    "        nutrient_lattice.matrix .-= (1 / YIELD_COEFFICIENT) * MAX_GROWTH_RATE * SIM_DT .*\n",
    "            (nutrient_lattice.matrix ./ (HALF_MAXIMAL_CONCENTRATION .+ nutrient_lattice.matrix)) .*\n",
    "            cell_density_lattice_placeholder.matrix\n",
    "    end\n",
    "end"
   ]
  },
  {
   "cell_type": "code",
   "execution_count": 54,
   "id": "85ba76bb",
   "metadata": {},
   "outputs": [
    {
     "data": {
      "text/plain": [
       "plot_agg (generic function with 1 method)"
      ]
     },
     "execution_count": 54,
     "metadata": {},
     "output_type": "execute_result"
    }
   ],
   "source": [
    "using Plots\n",
    "\n",
    "function plot_agg(Aggregate_Map::Set{Aggregate}, photo_file::String, CURR_T::Int64)  \n",
    "    p = Plots.scatter(legend=false, xlabel=\"X Microns\", ylabel=\"Y Microns\", hover=true, aspect_ratio=:equal)\n",
    "    title!(\"Discrete Time: $CURR_T seconds\")\n",
    "    xlims!(NEG_LIM, POS_LIM)\n",
    "    ylims!(NEG_LIM, POS_LIM)\n",
    "    for aggregate in Aggregate_Map\n",
    "        for cell in aggregate.cells\n",
    "            Plots.scatter!(p, [cell.x], [cell.y], color=aggregate.rgb;)\n",
    "        end\n",
    "    end\n",
    "    return p\n",
    "    # Plots.savefig(photo_file)\n",
    "end\n"
   ]
  },
  {
   "cell_type": "code",
   "execution_count": 55,
   "id": "88195d33-6bc6-4b45-b2ae-59aa4c8099ee",
   "metadata": {},
   "outputs": [
    {
     "data": {
      "text/plain": [
       "create_plots (generic function with 1 method)"
      ]
     },
     "execution_count": 55,
     "metadata": {},
     "output_type": "execute_result"
    }
   ],
   "source": [
    "using Plots\n",
    "\n",
    "function create_plots(p1,p2, photo_file)\n",
    "    plot(p1,p2)\n",
    "    Plots.savefig(photo_file)\n",
    "end"
   ]
  },
  {
   "cell_type": "markdown",
   "id": "e449c93d",
   "metadata": {},
   "source": [
    "## Database Code"
   ]
  },
  {
   "cell_type": "code",
   "execution_count": 56,
   "id": "5ed9a713",
   "metadata": {},
   "outputs": [
    {
     "data": {
      "text/plain": [
       "write_to_db (generic function with 1 method)"
      ]
     },
     "execution_count": 56,
     "metadata": {},
     "output_type": "execute_result"
    }
   ],
   "source": [
    "import Pkg\n",
    "using SQLite\n",
    "using DataFrames\n",
    "\n",
    "function connect_to_db()\n",
    "    if WRITE_TO_DB\n",
    "        db = SQLite.DB(DB_NAME)\n",
    "        query = \"CREATE TABLE IF NOT EXISTS \"\n",
    "        query = query * TABLE_NAME\n",
    "        query = query * \"\"\" (\n",
    "                key INTEGER PRIMARY KEY AUTOINCREMENT,\n",
    "                time_step INTEGER,\n",
    "                aggregate_size INTEGER,\n",
    "                number_of_aggregates INTEGER\n",
    "            )\"\"\"\n",
    "        SQLite.execute(db, query)\n",
    "        return db\n",
    "    else\n",
    "        return nothing\n",
    "    end\n",
    "end\n",
    "\n",
    "function write_to_db(Aggregate_Map::Set{Aggregate}, db::SQLite.DB, i::Int64)\n",
    "    for aggregate in Aggregate_Map\n",
    "        try\n",
    "            # Check if a record exists with the specified conditions\n",
    "            agg_size = aggregate.size\n",
    "            query = SQLite.DBInterface.execute(db, \"SELECT aggregate_size FROM $TABLE_NAME\n",
    "                WHERE aggregate_size = ? AND time_step = ? LIMIT 1\", (agg_size, i))\n",
    "            df = DataFrames.DataFrame(query)\n",
    "\n",
    "            if nrow(df) != 0\n",
    "                # Update the existing record\n",
    "                SQLite.execute(db, \"UPDATE $TABLE_NAME SET number_of_aggregates = number_of_aggregates + 1\n",
    "                    WHERE aggregate_size = ? AND time_step = ?\", (agg_size, i))\n",
    "            else\n",
    "                # Insert a new record\n",
    "                SQLite.execute(db, \"INSERT INTO $TABLE_NAME (aggregate_size, time_step, number_of_aggregates)\n",
    "                    VALUES (?, ?, 1)\", (agg_size, i))\n",
    "            end\n",
    "        catch ex\n",
    "            # Insert a new record\n",
    "            println(\"SQLITE ERROR: $ex\")\n",
    "        end\n",
    "    end\n",
    "end"
   ]
  },
  {
   "cell_type": "markdown",
   "id": "79f9b0fc",
   "metadata": {},
   "source": [
    "## Run the simuliation from here:"
   ]
  },
  {
   "cell_type": "markdown",
   "id": "4e428ee7",
   "metadata": {},
   "source": [
    "Choose whether you would like to save the simulation data to a databse and whether you would like to display the output as graphs. If you would like to save the images of the graphs as a gif, open terminal/command line and type \n",
    "```\n",
    "cd IBMAggregateModeling\n",
    "```\n",
    "```\n",
    "python3 graphs/make_gif.py\n",
    "```\n",
    "to create a gif.\n",
    "This enum allows the user to choose what type of boundary condition they would like to use.\\nThis enum allows the user to choose what type of boundary condition they would like to use.\\nThe choices are:\n",
    "- Periodic:\n",
    "  - Each cell that crosses boundary loops over to other side of map\n",
    "- Outflow:\n",
    "  - Each cell the crosses boundary is deleted from the aggregate (cell death)"
   ]
  },
  {
   "cell_type": "code",
   "execution_count": 57,
   "id": "0e7c3641",
   "metadata": {},
   "outputs": [],
   "source": [
    "############################### SETUP ####################################\n",
    "@enum BoundaryConditions PERIODIC=1 OUTFLOW REFLECTIVE\n",
    "##########################################################################"
   ]
  },
  {
   "cell_type": "code",
   "execution_count": 58,
   "id": "d3e95a4c",
   "metadata": {},
   "outputs": [],
   "source": [
    "######################## SIMULATION PARAMETERS #############################\n",
    "T_MAX = 100 # Number of time steps\n",
    "INITIAL_PCELLS = 7 # Initial number of planktonic cells\n",
    "PROB_MOVE = 0.9 # Probability the cell moves in any given iteration\n",
    "PROB_DEATH = 0.05 # Probability cell dies\n",
    "NEG_LIM = -150 # Boundaries of space\n",
    "POS_LIM = 150  # Boundaries of space\n",
    "SLOW_GROWTH_RATE = .15\n",
    "FAST_GROWTH_RATE = .3\n",
    "MAX_GROWTH_RATE = 1.5\n",
    "BREAK_PROBABILITY = 0.001\n",
    "MERGE_ON_COLLISION_PROBABILITY = 0.1\n",
    "AGGREGATE_SIZE = 5 # Original aggregate size\n",
    "CREATES_OWN_AGG_PROBABILITY = 0\n",
    "BOUNDARY_CONDITION = OUTFLOW::BoundaryConditions\n",
    "GENERATE_GRAPHS = true\n",
    "WRITE_TO_DB = false\n",
    "DB_NAME = \"test.db\"\n",
    "TABLE_NAME = \"test1\"\n",
    "COLLISION_DISTANCE = 2\n",
    "\n",
    "# Lattice variables\n",
    "YIELD_COEFFICIENT = 1\n",
    "HALF_MAXIMAL_CONCENTRATION = 0.3\n",
    "MESH_SIZE = 10 # lattice dimensions = (meshSize x meshSize)\n",
    "LATTICE_THICKNESS = (POS_LIM - NEG_LIM) / MESH_SIZE # thickness of each layer (uniform)\n",
    "DIFFUSION_COEFFICIENT = 15 # micrometer squared\n",
    "DIFFUSION_DT = .1\n",
    "SIM_DT = 1\n",
    "INFLOW_GRADIENT = 10\n",
    "OUTFLOW_GRADIENT = 1\n",
    "############################################################################\n",
    "\n",
    "run()"
   ]
  },
  {
   "cell_type": "markdown",
   "id": "5727a26a",
   "metadata": {},
   "source": [
    "## Setup for racing and comparing speed/functionality of julia sim to python sim"
   ]
  },
  {
   "cell_type": "code",
   "execution_count": 63,
   "id": "f40bd225",
   "metadata": {},
   "outputs": [
    {
     "ename": "LoadError",
     "evalue": "MethodError: objects of type Int64 are not callable\nMaybe you forgot to use an operator such as \u001b[36m*, ^, %, / etc. \u001b[39m?",
     "output_type": "error",
     "traceback": [
      "MethodError: objects of type Int64 are not callable\nMaybe you forgot to use an operator such as \u001b[36m*, ^, %, / etc. \u001b[39m?",
      "",
      "Stacktrace:",
      " [1] mapreduce_first(f::Int64, op::Function, x::Int64)",
      "   @ Base .\\reduce.jl:419",
      " [2] mapreduce(f::Int64, op::Function, a::Int64)",
      "   @ Base .\\reduce.jl:446",
      " [3] maximum(f::Int64, a::Int64; kw::Base.Pairs{Symbol, Union{}, Tuple{}, NamedTuple{(), Tuple{}}})",
      "   @ Base .\\reduce.jl:700",
      " [4] maximum(f::Int64, a::Int64)",
      "   @ Base .\\reduce.jl:700",
      " [5] run()",
      "   @ Main .\\In[56]:80",
      " [6] race",
      "   @ .\\In[63]:22 [inlined]",
      " [7] macro expansion",
      "   @ .\\In[63]:25 [inlined]",
      " [8] top-level scope",
      "   @ .\\timing.jl:273 [inlined]",
      " [9] top-level scope",
      "   @ .\\In[63]:0"
     ]
    }
   ],
   "source": [
    "    ######################## SIMULATION PARAMETERS #############################\n",
    "    T_MAX = 40 # Number of time steps\n",
    "    INITIAL_PCELLS = 3 # Initial number of planktonic cells\n",
    "    PROB_DEATH = 0.05 # Probability cell dies\n",
    "    PROB_MOVE = 0.9 # Probability the cell moves in any given iteration\n",
    "    NEG_LIM = -150 # Boundaries of space\n",
    "    POS_LIM = 150  # Boundaries of space\n",
    "    SLOW_GROWTH_RATE = .1\n",
    "    FAST_GROWTH_RATE = .2\n",
    "    BREAK_PROBABILITY = 0\n",
    "    AGGREGATE_SIZE = 2 # Original aggregate size\n",
    "    CREATES_OWN_AGG_PROBABILITY = 0.5\n",
    "    BOUNDARY_CONDITION = OUTFLOW::BoundaryConditions\n",
    "    GENERATE_GRAPHS = true\n",
    "    WRITE_TO_DB = false\n",
    "    DB_NAME = \"race_python_v_julia/julia1.db\"\n",
    "    ############################################################################\n",
    "    \n",
    "    # @time begin run() end\n",
    "    function race()\n",
    "        for i in 1:100\n",
    "            run()\n",
    "        end\n",
    "    end\n",
    "    @time begin race() end"
   ]
  },
  {
   "cell_type": "code",
   "execution_count": 66,
   "id": "0dcecfef",
   "metadata": {},
   "outputs": [
    {
     "ename": "LoadError",
     "evalue": "UndefVarError: `CURR_T` not defined",
     "output_type": "error",
     "traceback": [
      "UndefVarError: `CURR_T` not defined",
      "",
      "Stacktrace:",
      " [1] top-level scope",
      "   @ In[66]:4"
     ]
    }
   ],
   "source": [
    "using Plots\n",
    "using ColorTypes\n",
    "p = Plots.scatter(legend=false, xlabel=\"X Microns\", ylabel=\"Y Microns\")\n",
    "title!(\"Discrete Time Simulation: $CURR_T seconds\")\n",
    "xlims!(NEG_LIM, POS_LIM)\n",
    "ylims!(NEG_LIM, POS_LIM)\n",
    "custom_color = RGBA(0.5, 0.8, 0.8, 1)\n",
    "Plots.scatter!(p, [1], [2], color=custom_color;)\n",
    "Plots.scatter!(p, [3], [4], color=custom_color;)\n",
    "Plots.scatter!(p, [5], [1]; color=custom_color)\n",
    "Plots.savefig(\"my_plot.png\")"
   ]
  },
  {
   "cell_type": "markdown",
   "id": "d6dcdc39-9913-4c43-9167-bec18b857932",
   "metadata": {},
   "source": [
    "## Julia Experiment 1\n",
    "- Run with 5 initial aggregates of 1 cell each\n",
    "- Probability of death is 0.03\n",
    "- No new aggregates can be created and break probability is 0\n"
   ]
  },
  {
   "cell_type": "code",
   "execution_count": 54,
   "id": "d5e10939-f218-4d7e-a16e-5579e64b416f",
   "metadata": {
    "scrolled": true
   },
   "outputs": [
    {
     "ename": "LoadError",
     "evalue": "SQLiteException(\"file is not a database\")",
     "output_type": "error",
     "traceback": [
      "SQLiteException(\"file is not a database\")",
      "",
      "Stacktrace:",
      "  [1] sqliteerror(args::SQLite.DB)",
      "    @ SQLite C:\\Users\\krish\\.julia\\packages\\SQLite\\aeqsS\\src\\SQLite.jl:34",
      "  [2] macro expansion",
      "    @ C:\\Users\\krish\\.julia\\packages\\SQLite\\aeqsS\\src\\base.jl:10 [inlined]",
      "  [3] prepare_stmt_wrapper",
      "    @ C:\\Users\\krish\\.julia\\packages\\SQLite\\aeqsS\\src\\SQLite.jl:109 [inlined]",
      "  [4] SQLite.Stmt(db::SQLite.DB, sql::String; register::Bool)",
      "    @ SQLite C:\\Users\\krish\\.julia\\packages\\SQLite\\aeqsS\\src\\SQLite.jl:146",
      "  [5] Stmt",
      "    @ C:\\Users\\krish\\.julia\\packages\\SQLite\\aeqsS\\src\\SQLite.jl:145 [inlined]",
      "  [6] execute(db::SQLite.DB, sql::String, params::NamedTuple{(), Tuple{}})",
      "    @ SQLite C:\\Users\\krish\\.julia\\packages\\SQLite\\aeqsS\\src\\SQLite.jl:561",
      "  [7] #execute#7",
      "    @ C:\\Users\\krish\\.julia\\packages\\SQLite\\aeqsS\\src\\SQLite.jl:570 [inlined]",
      "  [8] execute",
      "    @ C:\\Users\\krish\\.julia\\packages\\SQLite\\aeqsS\\src\\SQLite.jl:569 [inlined]",
      "  [9] connect_to_db()",
      "    @ Main .\\In[49]:16",
      " [10] run()",
      "    @ Main .\\In[46]:4",
      " [11] top-level scope",
      "    @ .\\In[54]:41"
     ]
    }
   ],
   "source": [
    "######################## SIMULATION PARAMETERS #############################\n",
    "T_MAX = 100 # Number of time steps\n",
    "INITIAL_PCELLS = 5 # Initial number of planktonic cells\n",
    "PROB_MOVE = 0.9 # Probability the cell moves in any given iteration\n",
    "PROB_DEATH = 0.03 # Probability cell dies\n",
    "NEG_LIM = -150 # Boundaries of space\n",
    "POS_LIM = 150  # Boundaries of space\n",
    "SLOW_GROWTH_RATE = .15\n",
    "FAST_GROWTH_RATE = .3\n",
    "MAX_GROWTH_RATE = 1.5\n",
    "BREAK_PROBABILITY = 0\n",
    "AGGREGATE_SIZE = 1 # Original aggregate size\n",
    "CREATES_OWN_AGG_PROBABILITY = 0\n",
    "BOUNDARY_CONDITION = OUTFLOW::BoundaryConditions\n",
    "GENERATE_GRAPHS = true\n",
    "WRITE_TO_DB = false\n",
    "DB_NAME = \"experiments/JuliaExperiment1/results.db\"\n",
    "TABLE_NAME = \"RUN_\"\n",
    "COLLISION_DISTANCE = 2\n",
    "\n",
    "# Lattice variables\n",
    "YIELD_COEFFICIENT = 4\n",
    "HALF_MAXIMAL_CONCENTRATION = 0.3\n",
    "MESH_SIZE = 10 # lattice dimensions = (meshSize x meshSize)\n",
    "LATTICE_THICKNESS = (POS_LIM - NEG_LIM) / MESH_SIZE # thickness of each layer (uniform)\n",
    "DIFFUSION_COEFFICIENT = 15 # micrometer squared\n",
    "DIFFUSION_DT = .1\n",
    "SIM_DT = 1\n",
    "INFLOW_GRADIENT = 10\n",
    "OUTFLOW_GRADIENT = 1\n",
    "############################################################################\n",
    "\n",
    "for i in 1:100\n",
    "    if i > 10 && i < 100\n",
    "        TABLE_NAME = TABLE_NAME[1:end-2] * string(i)\n",
    "    elseif i > 100 && i < 1000\n",
    "        TABLE_NAME = TABLE_NAME[1:end-3] * string(i)\n",
    "    else\n",
    "        TABLE_NAME = TABLE_NAME[1:end-1] * string(i)\n",
    "    end\n",
    "    run()\n",
    "end"
   ]
  },
  {
   "cell_type": "markdown",
   "id": "2dd6d5f3",
   "metadata": {},
   "source": []
  }
 ],
 "metadata": {
  "@webio": {
   "lastCommId": "4ca5da42-1f5d-49e1-81a1-658f19cc32bc",
   "lastKernelId": "9baf5d9c-deb6-40a8-a972-65846b0e3752"
  },
  "kernelspec": {
   "display_name": "Julia 1.9.3",
   "language": "julia",
   "name": "julia-1.9"
  },
  "language_info": {
   "file_extension": ".jl",
   "mimetype": "application/julia",
   "name": "julia",
   "version": "1.9.3"
  }
 },
 "nbformat": 4,
 "nbformat_minor": 5
}
